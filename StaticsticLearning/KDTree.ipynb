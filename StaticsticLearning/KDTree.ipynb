{
  "nbformat": 4,
  "nbformat_minor": 0,
  "metadata": {
    "colab": {
      "provenance": [],
      "authorship_tag": "ABX9TyPU/Wb6W28gZuy6wZYOoZxE",
      "include_colab_link": true
    },
    "kernelspec": {
      "name": "python3",
      "display_name": "Python 3"
    },
    "language_info": {
      "name": "python"
    }
  },
  "cells": [
    {
      "cell_type": "markdown",
      "metadata": {
        "id": "view-in-github",
        "colab_type": "text"
      },
      "source": [
        "<a href=\"https://colab.research.google.com/github/ickma2311/mycolab/blob/main/StaticsticLearning/KDTree.ipynb\" target=\"_parent\"><img src=\"https://colab.research.google.com/assets/colab-badge.svg\" alt=\"Open In Colab\"/></a>"
      ]
    },
    {
      "cell_type": "code",
      "metadata": {
        "id": "fd1dcbca"
      },
      "source": [
        "from sklearn.datasets import load_iris\n",
        "\n",
        "# Load the iris dataset\n",
        "iris = load_iris()\n",
        "\n"
      ],
      "execution_count": 18,
      "outputs": []
    },
    {
      "cell_type": "code",
      "source": [
        "\n",
        "class KDNode:\n",
        "  def __init__(self,point,left,right) -> None:\n",
        "    self.point=point\n",
        "    self.left=left\n",
        "    self.right=right\n",
        "\n",
        "\n",
        "def build_kdtree(data,depth=0):\n",
        "  if len(data)==0:\n",
        "    return None\n",
        "  k=len(data[0])\n",
        "  axis=depth%k\n",
        "\n",
        "  sorted_dat=sorted(data,key=lambda x:x[axis])\n",
        "  median_index=len(sorted_dat)//2\n",
        "  median_point=sorted_dat[median_index]\n",
        "\n",
        "  left_points=sorted_dat[:median_index]\n",
        "  right_points=sorted_dat[median_index+1:]\n",
        "\n",
        "  return KDNode(median_point,build_kdtree(left_points,depth+1),build_kdtree(right_points,depth+1))\n",
        "\n",
        "\n",
        "\n",
        "\n",
        "\n"
      ],
      "metadata": {
        "id": "nyNoBs3SudU-"
      },
      "execution_count": 8,
      "outputs": []
    },
    {
      "cell_type": "code",
      "source": [
        "tree=build_kdtree(iris.data)"
      ],
      "metadata": {
        "id": "A-HlZr6kxREV"
      },
      "execution_count": 9,
      "outputs": []
    },
    {
      "cell_type": "code",
      "source": [
        "tree.point"
      ],
      "metadata": {
        "colab": {
          "base_uri": "https://localhost:8080/"
        },
        "id": "pam4jyKyxSXd",
        "outputId": "0c0f4ea8-35b1-48f3-ba96-e2a45bfbbbf4"
      },
      "execution_count": 10,
      "outputs": [
        {
          "output_type": "execute_result",
          "data": {
            "text/plain": [
              "array([5.8, 2.7, 3.9, 1.2])"
            ]
          },
          "metadata": {},
          "execution_count": 10
        }
      ]
    },
    {
      "cell_type": "markdown",
      "source": [
        "# Search\n"
      ],
      "metadata": {
        "id": "zKHNICz4yweP"
      }
    },
    {
      "cell_type": "code",
      "source": [
        "import heapq\n",
        "import numpy as np\n",
        "\n",
        "def nearest_neighbor(node,target,depth=0,best=None):\n",
        "  if not node:\n",
        "    return best\n",
        "\n",
        "  axis=depth%len(target)\n",
        "\n",
        "  # current best\n",
        "  if best is None or np.linalg.norm(node.point-target)<np.linalg.norm(best-target):\n",
        "    best=node.point\n",
        "\n",
        "  # check where to go\n",
        "  if target[axis]<node.point[axis]:\n",
        "    next_node=node.left\n",
        "    opposite_node=node.right\n",
        "  else:\n",
        "    next_node=node.right\n",
        "    opposite_node=node.left\n",
        "\n",
        "  best=nearest_neighbor(next_node,target,depth+1,best)\n",
        "\n",
        "  # back track\n",
        "  # check if far side could have a closer point\n",
        "\n",
        "  if np.abs(target[axis]-node.point[axis])<np.linalg.norm(best-target):\n",
        "    best=nearest_neighbor(opposite_node,target,depth+1,best)\n",
        "\n",
        "  return best"
      ],
      "metadata": {
        "id": "56epItifyywZ"
      },
      "execution_count": 15,
      "outputs": []
    },
    {
      "cell_type": "code",
      "source": [
        "nearest_neighbor(tree,iris.data[0])"
      ],
      "metadata": {
        "colab": {
          "base_uri": "https://localhost:8080/"
        },
        "id": "wwf2BNGA0zBK",
        "outputId": "70b139fb-c088-4809-d0d4-26017e341859"
      },
      "execution_count": 16,
      "outputs": [
        {
          "output_type": "execute_result",
          "data": {
            "text/plain": [
              "array([5.1, 3.5, 1.4, 0.2])"
            ]
          },
          "metadata": {},
          "execution_count": 16
        }
      ]
    },
    {
      "cell_type": "code",
      "source": [
        "iris.data[0]"
      ],
      "metadata": {
        "colab": {
          "base_uri": "https://localhost:8080/"
        },
        "id": "73Iy-0YA04sy",
        "outputId": "961361e2-ba86-437d-c4fc-a0a9cdbe2e63"
      },
      "execution_count": 17,
      "outputs": [
        {
          "output_type": "execute_result",
          "data": {
            "text/plain": [
              "array([5.1, 3.5, 1.4, 0.2])"
            ]
          },
          "metadata": {},
          "execution_count": 17
        }
      ]
    }
  ]
}