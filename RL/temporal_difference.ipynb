{
  "nbformat": 4,
  "nbformat_minor": 0,
  "metadata": {
    "colab": {
      "provenance": [],
      "authorship_tag": "ABX9TyOqe4owRKiROYkuf4DdNZYj",
      "include_colab_link": true
    },
    "kernelspec": {
      "name": "python3",
      "display_name": "Python 3"
    },
    "language_info": {
      "name": "python"
    }
  },
  "cells": [
    {
      "cell_type": "markdown",
      "metadata": {
        "id": "view-in-github",
        "colab_type": "text"
      },
      "source": [
        "<a href=\"https://colab.research.google.com/github/ickma2311/mycolab/blob/main/RL/temporal_difference.ipynb\" target=\"_parent\"><img src=\"https://colab.research.google.com/assets/colab-badge.svg\" alt=\"Open In Colab\"/></a>"
      ]
    },
    {
      "cell_type": "code",
      "execution_count": 1,
      "metadata": {
        "id": "4p-Q3uOu6Up6"
      },
      "outputs": [],
      "source": [
        "# !pip install \"gymnasium[classic_control]\""
      ]
    },
    {
      "cell_type": "markdown",
      "source": [
        "# Belleman optimality Equation\n",
        "$$\n",
        "Q^*(s, a) = \\left[ r(s,a)+ \\max_{s'}Q^*(s',a') \\right]\n",
        "$$\n",
        "\n",
        "Explains:\n",
        "\n",
        "\n",
        "*   r is reward\n",
        "*   s is current status\n",
        "*   a is current action\n",
        "*  s' is next status\n",
        "*  a' is next action\n",
        "\n",
        "\n",
        "Here Q* is simliar to the sum of max reward of all posible next steps\n",
        " $$Q^* ≈ \\sum_{s'} \\max(r(s',a'))$$\n",
        "\n",
        "\n"
      ],
      "metadata": {
        "id": "jF21qLBHFVZ8"
      }
    },
    {
      "cell_type": "markdown",
      "source": [
        "# Temporal Difference\n",
        "$$\n",
        "Δ_t=E(Q(s))-Q(S)\n",
        "$$\n",
        "\n",
        "Given\n",
        "$$\n",
        "E(Q)=r+maxQ(s')\n",
        "$$\n",
        "so,\n",
        "$$\n",
        "Δ_t=r+maxQ(s')-Q(s)\n",
        "$$\n",
        "\n",
        "Then training will be\n",
        "$$\n",
        "Q(s)+ α(r+maxQ(s')-Q(s)\n",
        "$$"
      ],
      "metadata": {
        "id": "p7xEclpKE8o2"
      }
    },
    {
      "cell_type": "markdown",
      "source": [
        "* https://gymnasium.farama.org/introduction/train_agent/\n",
        "\n",
        "* https://github.com/SeeknnDestroy/DQN-CartPole/blob/master/dql-cartpole.ipynb"
      ],
      "metadata": {
        "id": "ZllID5qhJsvZ"
      }
    },
    {
      "cell_type": "code",
      "source": [
        "import gymnasium as gym\n",
        "env = gym.make(\"Blackjack-v1\")\n",
        "\n",
        "observation, info = env.reset(seed=42)\n"
      ],
      "metadata": {
        "id": "K-L6cGkrMUhP"
      },
      "execution_count": 2,
      "outputs": []
    },
    {
      "cell_type": "code",
      "source": [
        "from collections import defaultdict\n",
        "import numpy as np\n",
        "class RLAgent:\n",
        "  def __init__(self,evn,\n",
        "             lr=1e-1,future_discount=0.95,\n",
        "             init_epsion=1,epsilon_decay=1e-5,min_epsion=0.1):\n",
        "    self.env=env\n",
        "    self.lr=lr\n",
        "    self.future_discount=future_discount\n",
        "    self.epsilon=init_epsion\n",
        "    self.epsilon_decay=epsilon_decay\n",
        "    self.min_epsion=min_epsion\n",
        "    self.q_table=defaultdict(lambda:np.zeros(env.action_space.n))\n",
        "\n",
        "  def act(self,observation):\n",
        "    if np.random.random()<self.epsilon:\n",
        "      return self.env.action_space.sample()\n",
        "    else:\n",
        "      return np.argmax(self.q_table[observation])\n",
        "\n",
        "  def train(self,observation,next_observation,action,reward,done):\n",
        "    future_rewad=self.future_discount*np.max(self.q_table[next_observation])\n",
        "    if done:\n",
        "      future_rewad=0\n",
        "    delta=reward+future_rewad-self.q_table[observation][action]\n",
        "    self.q_table[observation][action]+=self.lr*delta\n",
        "    return delta\n",
        "\n",
        "\n",
        "  def decay_epsilon(self):\n",
        "    self.epsilon=max(self.min_epsion,self.epsilon-self.epsilon_decay)\n",
        "\n",
        "\n",
        "\n",
        "\n",
        ""
      ],
      "metadata": {
        "id": "aHUQzA9NWpfW"
      },
      "execution_count": 3,
      "outputs": []
    },
    {
      "cell_type": "code",
      "source": [
        "class RandomAgent:\n",
        "  def __init__(self,env):\n",
        "    self.env=env\n",
        "  def act(self):\n",
        "    return self.env.action_space.sample()"
      ],
      "metadata": {
        "id": "no20UVKxfvW7"
      },
      "execution_count": 4,
      "outputs": []
    },
    {
      "cell_type": "code",
      "source": [
        "\n",
        "rl_agent=RLAgent(env)\n",
        "random_agent=RandomAgent(env)\n",
        "\n",
        "\n"
      ],
      "metadata": {
        "id": "e_klUt7RflIT"
      },
      "execution_count": 5,
      "outputs": []
    },
    {
      "cell_type": "code",
      "source": [
        "from tqdm import tqdm\n",
        "n_episodes=10000\n",
        "n_wins=0\n",
        "for episode in tqdm(range(n_episodes)):\n",
        "  done=False\n",
        "  observation,info=env.reset()\n",
        "\n",
        "  while not done:\n",
        "    action=random_agent.act()\n",
        "    observation,reward,terminated,truncated,info=env.step(action)\n",
        "    n_wins+=reward\n",
        "    done=terminated or truncated\n",
        "\n",
        "n_wins"
      ],
      "metadata": {
        "colab": {
          "base_uri": "https://localhost:8080/"
        },
        "id": "Rw1M0rMRf-Pj",
        "outputId": "cf8c71bf-df42-4775-9586-0e8fedfe0321"
      },
      "execution_count": 6,
      "outputs": [
        {
          "output_type": "stream",
          "name": "stderr",
          "text": [
            "100%|██████████| 10000/10000 [00:03<00:00, 3305.30it/s]\n"
          ]
        },
        {
          "output_type": "execute_result",
          "data": {
            "text/plain": [
              "-3885.0"
            ]
          },
          "metadata": {},
          "execution_count": 6
        }
      ]
    },
    {
      "cell_type": "code",
      "source": [
        "# use RL Agent\n",
        "rewards=[]\n",
        "n_episodes=100000\n",
        "log_step=10000\n",
        "errors=[]\n",
        "for episode in tqdm(range(n_episodes)):\n",
        "  done=False\n",
        "  observation,info=env.reset()\n",
        "\n",
        "\n",
        "  while not done:\n",
        "    action=rl_agent.act(observation)\n",
        "    next_observation,reward,terminated,truncated,info=env.step(action)\n",
        "    error=rl_agent.train(observation,next_observation,action,reward,terminated)\n",
        "    done=terminated or truncated\n",
        "    observation=next_observation\n",
        "    errors.append(error)\n",
        "    if reward==0:\n",
        "      continue\n",
        "    rewards.append(reward)\n",
        "  rl_agent.decay_epsilon()\n",
        "  if episode%log_step==0:\n",
        "    print(np.mean(errors))\n",
        "    errors=[]\n",
        ""
      ],
      "metadata": {
        "colab": {
          "base_uri": "https://localhost:8080/"
        },
        "id": "fIRfTfB7iDTM",
        "outputId": "3e7b825b-112a-4904-b51b-423f5fa3192c"
      },
      "execution_count": 7,
      "outputs": [
        {
          "output_type": "stream",
          "name": "stderr",
          "text": [
            "  1%|          | 708/100000 [00:00<00:28, 3537.42it/s]"
          ]
        },
        {
          "output_type": "stream",
          "name": "stdout",
          "text": [
            "-1.0\n"
          ]
        },
        {
          "output_type": "stream",
          "name": "stderr",
          "text": [
            " 10%|█         | 10296/100000 [00:03<00:33, 2649.90it/s]"
          ]
        },
        {
          "output_type": "stream",
          "name": "stdout",
          "text": [
            "-0.056014562746804095\n"
          ]
        },
        {
          "output_type": "stream",
          "name": "stderr",
          "text": [
            " 21%|██        | 20724/100000 [00:06<00:18, 4359.83it/s]"
          ]
        },
        {
          "output_type": "stream",
          "name": "stdout",
          "text": [
            "-0.0026165159186212696\n"
          ]
        },
        {
          "output_type": "stream",
          "name": "stderr",
          "text": [
            " 31%|███       | 31076/100000 [00:07<00:09, 7279.31it/s]"
          ]
        },
        {
          "output_type": "stream",
          "name": "stdout",
          "text": [
            "-0.001367593306998308\n"
          ]
        },
        {
          "output_type": "stream",
          "name": "stderr",
          "text": [
            " 41%|████▏     | 41318/100000 [00:09<00:08, 7028.54it/s]"
          ]
        },
        {
          "output_type": "stream",
          "name": "stdout",
          "text": [
            "-0.005713497055750912\n"
          ]
        },
        {
          "output_type": "stream",
          "name": "stderr",
          "text": [
            " 51%|█████     | 50910/100000 [00:10<00:06, 7169.81it/s]"
          ]
        },
        {
          "output_type": "stream",
          "name": "stdout",
          "text": [
            "-0.007794526898978332\n"
          ]
        },
        {
          "output_type": "stream",
          "name": "stderr",
          "text": [
            " 61%|██████    | 61197/100000 [00:12<00:05, 7126.57it/s]"
          ]
        },
        {
          "output_type": "stream",
          "name": "stdout",
          "text": [
            "0.0015466222380600147\n"
          ]
        },
        {
          "output_type": "stream",
          "name": "stderr",
          "text": [
            " 71%|███████   | 71143/100000 [00:13<00:04, 6982.66it/s]"
          ]
        },
        {
          "output_type": "stream",
          "name": "stdout",
          "text": [
            "-0.002797877476014764\n"
          ]
        },
        {
          "output_type": "stream",
          "name": "stderr",
          "text": [
            " 81%|████████  | 81155/100000 [00:14<00:02, 6967.17it/s]"
          ]
        },
        {
          "output_type": "stream",
          "name": "stdout",
          "text": [
            "-0.002584813296046884\n"
          ]
        },
        {
          "output_type": "stream",
          "name": "stderr",
          "text": [
            " 91%|█████████ | 91155/100000 [00:16<00:01, 6692.15it/s]"
          ]
        },
        {
          "output_type": "stream",
          "name": "stdout",
          "text": [
            "-0.004769869605885739\n"
          ]
        },
        {
          "output_type": "stream",
          "name": "stderr",
          "text": [
            "100%|██████████| 100000/100000 [00:18<00:00, 5481.55it/s]\n"
          ]
        }
      ]
    },
    {
      "cell_type": "code",
      "source": [
        "sum(rewards)"
      ],
      "metadata": {
        "colab": {
          "base_uri": "https://localhost:8080/"
        },
        "id": "iq3OWrt0kEiF",
        "outputId": "b465daea-a56d-481a-c194-212b1481ae0e"
      },
      "execution_count": 8,
      "outputs": [
        {
          "output_type": "execute_result",
          "data": {
            "text/plain": [
              "-23819.0"
            ]
          },
          "metadata": {},
          "execution_count": 8
        }
      ]
    },
    {
      "cell_type": "code",
      "source": [
        "import matplotlib.pyplot as plt\n",
        "rewards_grouped_avg=[]\n",
        "group_size=1000\n",
        "for i in range(int(len(rewards)/group_size)):\n",
        "  start_i=i*group_size\n",
        "  end_i=start_i+group_size\n",
        "  rewards_grouped_avg.append(np.mean(rewards[start_i:end_i]))\n",
        "plt.plot(rewards_grouped_avg)"
      ],
      "metadata": {
        "colab": {
          "base_uri": "https://localhost:8080/",
          "height": 447
        },
        "id": "9LKdvCaui5e8",
        "outputId": "8331207a-6bc1-403e-8fe9-d8ecee5080d1"
      },
      "execution_count": 9,
      "outputs": [
        {
          "output_type": "execute_result",
          "data": {
            "text/plain": [
              "[<matplotlib.lines.Line2D at 0x7a54e1196350>]"
            ]
          },
          "metadata": {},
          "execution_count": 9
        },
        {
          "output_type": "display_data",
          "data": {
            "text/plain": [
              "<Figure size 640x480 with 1 Axes>"
            ],
            "image/png": "[encoded data removed]"
          },
          "metadata": {}
        }
      ]
    }
  ]
}