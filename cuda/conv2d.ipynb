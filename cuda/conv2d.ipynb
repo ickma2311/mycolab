{
  "nbformat": 4,
  "nbformat_minor": 0,
  "metadata": {
    "colab": {
      "provenance": [],
      "gpuType": "T4",
      "authorship_tag": "ABX9TyNK62LH16XBgDR1H65tOuuO",
      "include_colab_link": true
    },
    "kernelspec": {
      "name": "python3",
      "display_name": "Python 3"
    },
    "language_info": {
      "name": "python"
    },
    "accelerator": "GPU"
  },
  "cells": [
    {
      "cell_type": "markdown",
      "metadata": {
        "id": "view-in-github",
        "colab_type": "text"
      },
      "source": [
        "<a href=\"https://colab.research.google.com/github/ickma2311/mycolab/blob/main/cuda/conv2d.ipynb\" target=\"_parent\"><img src=\"https://colab.research.google.com/assets/colab-badge.svg\" alt=\"Open In Colab\"/></a>"
      ]
    },
    {
      "cell_type": "markdown",
      "source": [
        "# Formula\n",
        "$$\n",
        "\\left(Y*k \\right)(i,j)= \\sum_m \\sum_n Y(i+m,j+n)K(m,n)\n",
        "$$"
      ],
      "metadata": {
        "id": "qfcneMv8gC-O"
      }
    },
    {
      "cell_type": "code",
      "execution_count": 1,
      "metadata": {
        "id": "6tFTGwBoPmyr"
      },
      "outputs": [],
      "source": [
        "import numpy as np"
      ]
    },
    {
      "cell_type": "code",
      "source": [
        "kernel_code=\"\"\"\n",
        "extern \"C\" __global__\n",
        "void conv2d(float* input,float* k,int k_size_a, int k_size_b,\n",
        "float* result,int input_size_a, int input_size_b){\n",
        "  int i=blockIdx.x*blockDim.x+threadIdx.x;\n",
        "  int j=blockIdx.y*blockDim.y+threadIdx.y;\n",
        "  if(i>=input_size_a-k_size_a+1||j>=input_size_b-k_size_b+1){\n",
        "    return;\n",
        "  }\n",
        "  int output_row_length=input_size_a-k_size_a+1;\n",
        "  float sum=0.0;\n",
        "  for(int m=0;m<k_size_a;m++){\n",
        "    for(int n=0;n<k_size_b;n++){\n",
        "      //current x for input is i+m,y is j+n\n",
        "      //index is y*x_length+x\n",
        "      //current x for kernel is m,y is n\n",
        "      //index is y*x_length+x\n",
        "      sum+=input[(j+n)*input_size_a+(i+m)]*k[n*k_size_a+m];\n",
        "    }\n",
        "  }\n",
        "  result[j*output_row_length+i]=sum;\n",
        "}\n",
        "\"\"\""
      ],
      "metadata": {
        "id": "P6AfjyxqzTYa"
      },
      "execution_count": 33,
      "outputs": []
    },
    {
      "cell_type": "code",
      "source": [
        "import cupy as cp\n",
        "import numpy as np"
      ],
      "metadata": {
        "id": "qlXXrIdpV_6V"
      },
      "execution_count": 3,
      "outputs": []
    },
    {
      "cell_type": "code",
      "source": [
        "kernel=np.random.rand(3,3).astype(np.float32).flatten()\n",
        "inputs=np.random.rand(32,32).astype(np.float32).flatten()"
      ],
      "metadata": {
        "id": "9DwbGeDxWKWW"
      },
      "execution_count": 45,
      "outputs": []
    },
    {
      "cell_type": "code",
      "source": [
        "outputs_shape=(30,30) #input_length+1-kernel_length\n",
        "outputs=np.zeros(outputs_shape).astype(np.float32).flatten()"
      ],
      "metadata": {
        "id": "E69X_VuGWQmr"
      },
      "execution_count": 58,
      "outputs": []
    },
    {
      "cell_type": "code",
      "source": [
        "\n",
        "threads_per_block=(8,8)\n",
        "import math\n",
        "blocks_per_grid=(math.ceil(28/threads_per_block[0]),math.ceil(28/threads_per_block[1]))"
      ],
      "metadata": {
        "id": "WrOaSEHYWjtW"
      },
      "execution_count": 59,
      "outputs": []
    },
    {
      "cell_type": "code",
      "source": [
        "moudle=cp.RawModule(code=kernel_code)\n",
        "conv2d_kernel=moudle.get_function('conv2d')"
      ],
      "metadata": {
        "id": "MgXm36HJXQmW"
      },
      "execution_count": 60,
      "outputs": []
    },
    {
      "cell_type": "code",
      "source": [
        "m_kernel=cp.asarray(kernel,dtype=cp.float32)\n",
        "m_inputs=cp.asarray(inputs,dtype=cp.float32)\n",
        "m_outputs=cp.asarray(outputs,dtype=cp.float32)\n",
        "conv2d_kernel(\n",
        "    blocks_per_grid,\n",
        "    threads_per_block,\n",
        "    (m_inputs,\n",
        "    m_kernel,\n",
        "    np.int32(3),\n",
        "    np.int32(3),\n",
        "    m_outputs,\n",
        "    np.int32(32),\n",
        "    np.int32(32))\n",
        ")\n",
        "cp.cuda.runtime.deviceSynchronize()"
      ],
      "metadata": {
        "id": "OOdTplVJduLm"
      },
      "execution_count": 61,
      "outputs": []
    },
    {
      "cell_type": "code",
      "source": [
        "result=m_outputs.get()"
      ],
      "metadata": {
        "id": "ETl84OYDeK7a"
      },
      "execution_count": 62,
      "outputs": []
    },
    {
      "cell_type": "code",
      "source": [
        "# result.reshape(28,28)\n",
        "from torch.nn.functional import conv2d\n",
        "from torch import Tensor\n",
        "conv_2d=conv2d(Tensor(inputs.reshape(1,1,32,32)),Tensor(kernel.reshape(1,1,3,3))).flatten()\n",
        "conv_2d.numpy().shape"
      ],
      "metadata": {
        "colab": {
          "base_uri": "https://localhost:8080/"
        },
        "id": "JLJAqNEdeMkX",
        "outputId": "b1318dc2-5731-4229-b124-99c231799a56"
      },
      "execution_count": 63,
      "outputs": [
        {
          "output_type": "execute_result",
          "data": {
            "text/plain": [
              "(900,)"
            ]
          },
          "metadata": {},
          "execution_count": 63
        }
      ]
    },
    {
      "cell_type": "code",
      "source": [
        "result[:10]"
      ],
      "metadata": {
        "colab": {
          "base_uri": "https://localhost:8080/"
        },
        "id": "cNgoohkIfclj",
        "outputId": "c589197f-177c-42cc-859c-c63bb648f6e5"
      },
      "execution_count": 64,
      "outputs": [
        {
          "output_type": "execute_result",
          "data": {
            "text/plain": [
              "array([2.226335 , 2.390226 , 2.4810112, 2.1960325, 2.0014567, 1.4875925,\n",
              "       1.6018865, 1.4656465, 1.6580648, 1.2654059], dtype=float32)"
            ]
          },
          "metadata": {},
          "execution_count": 64
        }
      ]
    },
    {
      "cell_type": "code",
      "source": [
        "conv_2d.numpy().flatten()[:10]"
      ],
      "metadata": {
        "colab": {
          "base_uri": "https://localhost:8080/"
        },
        "id": "eszDk_lCgj90",
        "outputId": "568cbeab-672a-4a52-dbff-01d4ee239ee1"
      },
      "execution_count": 65,
      "outputs": [
        {
          "output_type": "execute_result",
          "data": {
            "text/plain": [
              "array([2.226335 , 2.390226 , 2.481011 , 2.1960328, 2.0014567, 1.4875925,\n",
              "       1.6018865, 1.4656465, 1.658065 , 1.2654059], dtype=float32)"
            ]
          },
          "metadata": {},
          "execution_count": 65
        }
      ]
    },
    {
      "cell_type": "code",
      "source": [
        "np.allclose(result,conv_2d.flatten(),atol=1e-5)"
      ],
      "metadata": {
        "colab": {
          "base_uri": "https://localhost:8080/"
        },
        "id": "2ZhhCiamerNm",
        "outputId": "f6c68695-a17c-4961-fee2-9fbb0ad53cb3"
      },
      "execution_count": 66,
      "outputs": [
        {
          "output_type": "execute_result",
          "data": {
            "text/plain": [
              "True"
            ]
          },
          "metadata": {},
          "execution_count": 66
        }
      ]
    },
    {
      "cell_type": "markdown",
      "source": [],
      "metadata": {
        "id": "vpcU4L8BRHZe"
      }
    }
  ]
}