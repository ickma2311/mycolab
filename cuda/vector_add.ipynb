{
  "nbformat": 4,
  "nbformat_minor": 0,
  "metadata": {
    "colab": {
      "provenance": [],
      "machine_shape": "hm",
      "gpuType": "T4",
      "mount_file_id": "102VYhPtBXscPzuFuQUqjSUR20-o8y9Qp",
      "authorship_tag": "ABX9TyPGW5yMbTDjPHxIZxcPY/UG",
      "include_colab_link": true
    },
    "kernelspec": {
      "name": "python3",
      "display_name": "Python 3"
    },
    "language_info": {
      "name": "python"
    },
    "accelerator": "GPU"
  },
  "cells": [
    {
      "cell_type": "markdown",
      "metadata": {
        "id": "view-in-github",
        "colab_type": "text"
      },
      "source": [
        "<a href=\"https://colab.research.google.com/github/ickma2311/mycolab/blob/main/cuda/vector_add.ipynb\" target=\"_parent\"><img src=\"https://colab.research.google.com/assets/colab-badge.svg\" alt=\"Open In Colab\"/></a>"
      ]
    },
    {
      "cell_type": "code",
      "execution_count": 1,
      "metadata": {
        "colab": {
          "base_uri": "https://localhost:8080/"
        },
        "id": "yGsNOUmkpiNm",
        "outputId": "f900083a-6d35-4ec3-dd11-7a6a16a6469a"
      },
      "outputs": [
        {
          "output_type": "stream",
          "name": "stdout",
          "text": [
            "Requirement already satisfied: cupy-cuda12x in /usr/local/lib/python3.11/dist-packages (13.3.0)\n",
            "Requirement already satisfied: numpy<2.3,>=1.22 in /usr/local/lib/python3.11/dist-packages (from cupy-cuda12x) (2.0.2)\n",
            "Requirement already satisfied: fastrlock>=0.5 in /usr/local/lib/python3.11/dist-packages (from cupy-cuda12x) (0.8.3)\n"
          ]
        }
      ],
      "source": [
        "!pip install cupy-cuda12x\n"
      ]
    },
    {
      "cell_type": "code",
      "source": [
        "kernal_code=\"\"\"\n",
        "extern \"C\"\n",
        "__global__ void vector_add(float *a, float *b, float *c, int n) {\n",
        "    int i = blockIdx.x * blockDim.x + threadIdx.x;\n",
        "    if (i < n) {\n",
        "        c[i] = a[i] + b[i];\n",
        "    }\n",
        "}\n",
        "\n",
        "\"\"\""
      ],
      "metadata": {
        "id": "-_V329GpsfHD"
      },
      "execution_count": 2,
      "outputs": []
    },
    {
      "cell_type": "code",
      "source": [
        "import cupy as cp\n",
        "import numpy as np\n"
      ],
      "metadata": {
        "id": "aqgjNl1isira"
      },
      "execution_count": 3,
      "outputs": []
    },
    {
      "cell_type": "code",
      "source": [
        "def calculated_expected_resultes(n):\n",
        "  h_a=np.random.rand(n).astype(np.float32)\n",
        "  h_b=np.random.rand(n).astype(np.float32)\n",
        "  h_c=h_a+h_b\n",
        "  return h_a,h_b,h_c"
      ],
      "metadata": {
        "id": "c23yTToqs4SQ"
      },
      "execution_count": 4,
      "outputs": []
    },
    {
      "cell_type": "code",
      "source": [
        "n=100000000\n",
        "h_a,h_b,expected_c=calculated_expected_resultes(n)"
      ],
      "metadata": {
        "id": "Y-zvU5csx3zE"
      },
      "execution_count": 5,
      "outputs": []
    },
    {
      "cell_type": "markdown",
      "source": [],
      "metadata": {
        "id": "VqVMDj5pzXK1"
      }
    },
    {
      "cell_type": "code",
      "source": [
        "%%timeit\n",
        "h_a+h_b\n",
        "# how many time CPU spends"
      ],
      "metadata": {
        "colab": {
          "base_uri": "https://localhost:8080/"
        },
        "id": "Ncb_GVonyAFL",
        "outputId": "92b51fc8-a2eb-4fb2-d17e-92e6c0404b52"
      },
      "execution_count": 6,
      "outputs": [
        {
          "output_type": "stream",
          "name": "stdout",
          "text": [
            "145 ms ± 751 µs per loop (mean ± std. dev. of 7 runs, 10 loops each)\n"
          ]
        }
      ]
    },
    {
      "cell_type": "code",
      "source": [
        "d_a=cp.asarray(h_a)\n",
        "d_b=cp.asarray(h_b)\n",
        "d_c=cp.zeros_like(d_a)"
      ],
      "metadata": {
        "id": "Tgmcykk9yMYl"
      },
      "execution_count": 7,
      "outputs": []
    },
    {
      "cell_type": "code",
      "source": [
        "cp.cuda.runtime.deviceSynchronize()"
      ],
      "metadata": {
        "id": "g7807bDWykQ1"
      },
      "execution_count": 8,
      "outputs": []
    },
    {
      "cell_type": "code",
      "source": [
        "moudle=cp.RawModule(code=kernal_code)\n",
        "vector_add_kernel=moudle.get_function('vector_add')"
      ],
      "metadata": {
        "id": "wZuGOVrBytt5"
      },
      "execution_count": 9,
      "outputs": []
    },
    {
      "cell_type": "code",
      "source": [
        "threads_per_block=256\n",
        "import math\n",
        "blocks_per_grid=math.ceil(n/threads_per_block)"
      ],
      "metadata": {
        "id": "zZ3uAK-izCPk"
      },
      "execution_count": 10,
      "outputs": []
    },
    {
      "cell_type": "code",
      "source": [
        "%%time\n",
        "vector_add_kernel(\n",
        "        (blocks_per_grid,),          # Grid dimensions (tuple)\n",
        "        (threads_per_block,),       # Block dimensions (tuple)\n",
        "        (d_a, d_b, d_c, np.int32(n)) # Arguments (tuple)\n",
        "    )\n",
        "cp.cuda.runtime.deviceSynchronize()"
      ],
      "metadata": {
        "colab": {
          "base_uri": "https://localhost:8080/"
        },
        "id": "6SGa3X88zeE6",
        "outputId": "88b5b2fc-5874-45af-da3f-43c84107967a"
      },
      "execution_count": 11,
      "outputs": [
        {
          "output_type": "stream",
          "name": "stdout",
          "text": [
            "CPU times: user 4.96 ms, sys: 0 ns, total: 4.96 ms\n",
            "Wall time: 4.72 ms\n"
          ]
        }
      ]
    },
    {
      "cell_type": "code",
      "source": [
        "h_c=d_c.get()"
      ],
      "metadata": {
        "id": "zf6sG2zjzuB8"
      },
      "execution_count": 12,
      "outputs": []
    },
    {
      "cell_type": "code",
      "source": [
        "# will raise exception if test fails\n",
        "print(np.testing.assert_allclose(h_c, expected_c, atol=1e-5, rtol=0))\n"
      ],
      "metadata": {
        "id": "ajl66Yoyz0Gl",
        "colab": {
          "base_uri": "https://localhost:8080/"
        },
        "outputId": "40add992-a109-4018-f1f6-bc6f97ef56c6"
      },
      "execution_count": 15,
      "outputs": [
        {
          "output_type": "stream",
          "name": "stdout",
          "text": [
            "None\n"
          ]
        }
      ]
    }
  ]
}