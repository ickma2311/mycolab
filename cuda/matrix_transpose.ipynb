{
  "nbformat": 4,
  "nbformat_minor": 0,
  "metadata": {
    "colab": {
      "provenance": [],
      "gpuType": "T4",
      "authorship_tag": "ABX9TyOsX3NijUHgVZ1RMNUmglwQ",
      "include_colab_link": true
    },
    "kernelspec": {
      "name": "python3",
      "display_name": "Python 3"
    },
    "language_info": {
      "name": "python"
    },
    "accelerator": "GPU"
  },
  "cells": [
    {
      "cell_type": "markdown",
      "metadata": {
        "id": "view-in-github",
        "colab_type": "text"
      },
      "source": [
        "<a href=\"https://colab.research.google.com/github/ickma2311/mycolab/blob/main/cuda/matrix_transpose.ipynb\" target=\"_parent\"><img src=\"https://colab.research.google.com/assets/colab-badge.svg\" alt=\"Open In Colab\"/></a>"
      ]
    },
    {
      "cell_type": "code",
      "execution_count": null,
      "metadata": {
        "colab": {
          "base_uri": "https://localhost:8080/"
        },
        "id": "F3Wu949H3bGw",
        "outputId": "f5bb04cd-c18b-4b3a-ed87-e1a34667e614"
      },
      "outputs": [
        {
          "output_type": "stream",
          "name": "stdout",
          "text": [
            "Requirement already satisfied: cupy-cuda12x in /usr/local/lib/python3.11/dist-packages (13.3.0)\n",
            "Requirement already satisfied: numpy<2.3,>=1.22 in /usr/local/lib/python3.11/dist-packages (from cupy-cuda12x) (2.0.2)\n",
            "Requirement already satisfied: fastrlock>=0.5 in /usr/local/lib/python3.11/dist-packages (from cupy-cuda12x) (0.8.3)\n"
          ]
        }
      ],
      "source": [
        "!pip install cupy-cuda12x\n"
      ]
    },
    {
      "cell_type": "markdown",
      "source": [
        "My doc for explanation:\n",
        "https://docs.google.com/document/d/154J9Xi_Noz3-VK02js3-dZdfQzCae2S3vLR734kb0Fo/edit?tab=t.0\n"
      ],
      "metadata": {
        "id": "mqFjt1ZcDi7b"
      }
    },
    {
      "cell_type": "code",
      "source": [
        "kernel_code=\"\"\"\n",
        "extern \"C\" __global__\n",
        "void matrix_transpose(float *a, float *b, int rows, int cols) {\n",
        "    int idx = blockIdx.x * blockDim.x + threadIdx.x;\n",
        "    int idy = blockIdx.y * blockDim.y + threadIdx.y;\n",
        "\n",
        "    // b.shape = (cols, rows)\n",
        "    // a.shape = (rows, cols)\n",
        "    // check bounds\n",
        "    if (idx < cols && idy < rows) {\n",
        "        b[idx * rows + idy] = a[idy * cols + idx];\n",
        "    }\n",
        "}\n",
        "\"\"\""
      ],
      "metadata": {
        "id": "jjXgCw5s3kcE"
      },
      "execution_count": null,
      "outputs": []
    },
    {
      "cell_type": "code",
      "source": [
        "import cupy as cp\n",
        "import numpy as np"
      ],
      "metadata": {
        "id": "FclT-2nf3pa9"
      },
      "execution_count": null,
      "outputs": []
    },
    {
      "cell_type": "code",
      "source": [
        "import numpy as np\n",
        "width = 1024\n",
        "height=126\n",
        "\n",
        "a = np.random.randn(height, width).astype(np.float32)\n",
        "a=a.flatten()\n",
        "a.shape"
      ],
      "metadata": {
        "colab": {
          "base_uri": "https://localhost:8080/"
        },
        "id": "4YqpOmbf3wEb",
        "outputId": "c9d5fcb5-0c14-4434-8e90-8175170c4410"
      },
      "execution_count": null,
      "outputs": [
        {
          "output_type": "execute_result",
          "data": {
            "text/plain": [
              "(129024,)"
            ]
          },
          "metadata": {},
          "execution_count": 187
        }
      ]
    },
    {
      "cell_type": "code",
      "source": [
        "m_a=cp.asarray(a,dtype=cp.float32)\n",
        "m_b=cp.zeros_like(m_a)"
      ],
      "metadata": {
        "id": "GKkoxzmo3yl0"
      },
      "execution_count": null,
      "outputs": []
    },
    {
      "cell_type": "code",
      "source": [
        "threads_per_block=(8,8)\n",
        "import math\n",
        "blocks_per_grid=(math.ceil(width/threads_per_block[0]),math.ceil(height/threads_per_block[1]))"
      ],
      "metadata": {
        "id": "FTU6lBCO4IwC"
      },
      "execution_count": null,
      "outputs": []
    },
    {
      "cell_type": "code",
      "source": [
        "\n",
        "print(threads_per_block[0]*threads_per_block[1])\n",
        "print(blocks_per_grid[0]*blocks_per_grid[1])"
      ],
      "metadata": {
        "colab": {
          "base_uri": "https://localhost:8080/"
        },
        "id": "PV5POYOtBhBL",
        "outputId": "10b310da-68f7-49ab-f4dd-132240cd3509"
      },
      "execution_count": null,
      "outputs": [
        {
          "output_type": "stream",
          "name": "stdout",
          "text": [
            "64\n",
            "2048\n"
          ]
        }
      ]
    },
    {
      "cell_type": "code",
      "source": [
        "moudle=cp.RawModule(code=kernel_code)\n",
        "vector_add_kernel=moudle.get_function('matrix_transpose')"
      ],
      "metadata": {
        "id": "Vfw0GAdP6LM4"
      },
      "execution_count": null,
      "outputs": []
    },
    {
      "cell_type": "markdown",
      "source": [],
      "metadata": {
        "id": "4PkH00t671B5"
      }
    },
    {
      "cell_type": "code",
      "source": [
        "vector_add_kernel(\n",
        "    blocks_per_grid,\n",
        "    threads_per_block,\n",
        "    (m_a,\n",
        "    m_b,\n",
        "    np.int32(height),\n",
        "    np.int32(width))\n",
        ")\n",
        "cp.cuda.runtime.deviceSynchronize()"
      ],
      "metadata": {
        "id": "x9JTRlA_6XgY"
      },
      "execution_count": null,
      "outputs": []
    },
    {
      "cell_type": "code",
      "source": [
        "r=m_b.get()"
      ],
      "metadata": {
        "id": "mp_g5ZjB6tpr"
      },
      "execution_count": null,
      "outputs": []
    },
    {
      "cell_type": "code",
      "source": [
        "a.reshape((height,width)).shape"
      ],
      "metadata": {
        "colab": {
          "base_uri": "https://localhost:8080/"
        },
        "id": "IAw3EFms6vyk",
        "outputId": "5ada5d86-da41-4fb9-99d6-fb1ab099437d"
      },
      "execution_count": null,
      "outputs": [
        {
          "output_type": "execute_result",
          "data": {
            "text/plain": [
              "(126, 1024)"
            ]
          },
          "metadata": {},
          "execution_count": 194
        }
      ]
    },
    {
      "cell_type": "code",
      "source": [
        "r.reshape((width,height)).shape"
      ],
      "metadata": {
        "colab": {
          "base_uri": "https://localhost:8080/"
        },
        "id": "1utb1WnI-DqV",
        "outputId": "199e0c0d-1d70-42c4-beea-853e86b04f41"
      },
      "execution_count": null,
      "outputs": [
        {
          "output_type": "execute_result",
          "data": {
            "text/plain": [
              "(1024, 126)"
            ]
          },
          "metadata": {},
          "execution_count": 195
        }
      ]
    },
    {
      "cell_type": "code",
      "source": [
        "left=a.reshape((height,width)).transpose()\n",
        "right=r.reshape((width,height))\n",
        "np.allclose(left,right,atol=1e-5)"
      ],
      "metadata": {
        "colab": {
          "base_uri": "https://localhost:8080/"
        },
        "id": "olQ62Ekw-GGy",
        "outputId": "5ce47f07-7ef3-4f30-94a2-ae622ae1e6a5"
      },
      "execution_count": null,
      "outputs": [
        {
          "output_type": "execute_result",
          "data": {
            "text/plain": [
              "True"
            ]
          },
          "metadata": {},
          "execution_count": 196
        }
      ]
    },
    {
      "cell_type": "code",
      "source": [
        "\n",
        "left"
      ],
      "metadata": {
        "colab": {
          "base_uri": "https://localhost:8080/"
        },
        "id": "zAEND0pXC3Rp",
        "outputId": "bc82a6cd-5220-4282-e81f-362b21a0ef15"
      },
      "execution_count": null,
      "outputs": [
        {
          "output_type": "execute_result",
          "data": {
            "text/plain": [
              "array([[-2.0288012 ,  0.02668415,  0.3603327 , ...,  0.6248638 ,\n",
              "        -2.0008454 ,  0.80592144],\n",
              "       [-2.1025772 ,  1.179263  ,  1.39218   , ...,  0.17204675,\n",
              "        -0.43237507,  0.62403274],\n",
              "       [ 0.6338934 , -0.76591396, -0.40607145, ..., -1.0227876 ,\n",
              "        -2.1723635 , -0.84497386],\n",
              "       ...,\n",
              "       [ 0.9127384 ,  1.366531  , -0.57190686, ..., -0.3158428 ,\n",
              "         0.58616745,  1.8970106 ],\n",
              "       [-0.69067603,  0.13682574,  0.7258632 , ...,  1.2445982 ,\n",
              "        -1.7863773 , -0.3067995 ],\n",
              "       [ 1.6215827 ,  0.74642277, -0.4526856 , ..., -1.9587345 ,\n",
              "        -0.75264406,  0.39908883]], dtype=float32)"
            ]
          },
          "metadata": {},
          "execution_count": 197
        }
      ]
    },
    {
      "cell_type": "code",
      "source": [
        "right"
      ],
      "metadata": {
        "colab": {
          "base_uri": "https://localhost:8080/"
        },
        "id": "NE4eKYeLC6Jv",
        "outputId": "0d2966b7-1e46-47fb-c6df-967fab0ef581"
      },
      "execution_count": null,
      "outputs": [
        {
          "output_type": "execute_result",
          "data": {
            "text/plain": [
              "array([[-2.0288012 ,  0.02668415,  0.3603327 , ...,  0.6248638 ,\n",
              "        -2.0008454 ,  0.80592144],\n",
              "       [-2.1025772 ,  1.179263  ,  1.39218   , ...,  0.17204675,\n",
              "        -0.43237507,  0.62403274],\n",
              "       [ 0.6338934 , -0.76591396, -0.40607145, ..., -1.0227876 ,\n",
              "        -2.1723635 , -0.84497386],\n",
              "       ...,\n",
              "       [ 0.9127384 ,  1.366531  , -0.57190686, ..., -0.3158428 ,\n",
              "         0.58616745,  1.8970106 ],\n",
              "       [-0.69067603,  0.13682574,  0.7258632 , ...,  1.2445982 ,\n",
              "        -1.7863773 , -0.3067995 ],\n",
              "       [ 1.6215827 ,  0.74642277, -0.4526856 , ..., -1.9587345 ,\n",
              "        -0.75264406,  0.39908883]], dtype=float32)"
            ]
          },
          "metadata": {},
          "execution_count": 198
        }
      ]
    }
  ]
}