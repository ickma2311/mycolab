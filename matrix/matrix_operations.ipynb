{
  "nbformat": 4,
  "nbformat_minor": 0,
  "metadata": {
    "colab": {
      "provenance": [],
      "authorship_tag": "ABX9TyNzAmNzSDsAEMr+PcpArd5o",
      "include_colab_link": true
    },
    "kernelspec": {
      "name": "python3",
      "display_name": "Python 3"
    },
    "language_info": {
      "name": "python"
    }
  },
  "cells": [
    {
      "cell_type": "markdown",
      "metadata": {
        "id": "view-in-github",
        "colab_type": "text"
      },
      "source": [
        "<a href=\"https://colab.research.google.com/github/ickma2311/mycolab/blob/main/matrix/matrix_operations.ipynb\" target=\"_parent\"><img src=\"https://colab.research.google.com/assets/colab-badge.svg\" alt=\"Open In Colab\"/></a>"
      ]
    },
    {
      "cell_type": "markdown",
      "source": [
        "# Matrix Add"
      ],
      "metadata": {
        "id": "DTao5nPx9vSd"
      }
    },
    {
      "cell_type": "markdown",
      "source": [
        "## Matrics add scalar"
      ],
      "metadata": {
        "id": "sNiUpE1t92LY"
      }
    },
    {
      "cell_type": "markdown",
      "source": [
        "$$\n",
        "\\begin{pmatrix}\n",
        "a & b & c \\\\\n",
        "d & e & f \\\\\n",
        "g & h & i\n",
        "\\end{pmatrix} +s=\n",
        "\\begin{pmatrix}\n",
        "a+s & b+s & c+s \\\\\n",
        "d+s & e+s & f+s \\\\\n",
        "g+s & h+s & i+s\n",
        "\\end{pmatrix}\n",
        "$$"
      ],
      "metadata": {
        "id": "_6ard8cy949g"
      }
    },
    {
      "cell_type": "markdown",
      "source": [
        "## Matrix add broadcast"
      ],
      "metadata": {
        "id": "bqijBFaw_Sq9"
      }
    },
    {
      "cell_type": "markdown",
      "source": [
        "$$\n",
        "\\begin{pmatrix}\n",
        "a & b & c \\\\\n",
        "d & e & f \\\\\n",
        "g & h & i\n",
        "\\end{pmatrix}\n",
        "+\n",
        "\\begin{pmatrix}\n",
        "j \\\\\n",
        "k \\\\\n",
        "l\n",
        "\\end{pmatrix}\n",
        "=\n",
        "\\begin{pmatrix}\n",
        "a+j& b+j & c+j \\\\\n",
        "d+k & e+k & f+k \\\\\n",
        "g+l & h+l & i+l\n",
        "\\end{pmatrix}\n",
        "$$"
      ],
      "metadata": {
        "id": "SLtzmpvnD41P"
      }
    },
    {
      "cell_type": "markdown",
      "source": [
        "## Matrix add matrix"
      ],
      "metadata": {
        "id": "aE3a8UIgPbWm"
      }
    },
    {
      "cell_type": "markdown",
      "source": [
        "$$\n",
        "\\begin{pmatrix}\n",
        "a & b & c \\\\\n",
        "d & e & f \\\\\n",
        "g & h & i\n",
        "\\end{pmatrix}\n",
        "+\n",
        "\\begin{pmatrix}\n",
        "j & k & l \\\\\n",
        "m & n & o \\\\\n",
        "p & q & r\n",
        "\\end{pmatrix}\n",
        "=\n",
        "\\begin{pmatrix}\n",
        "a+j & b+k & c+l \\\\\n",
        "d+m & e+n & f+o \\\\\n",
        "g+p & h+q & i+r\n",
        "\\end{pmatrix}\n",
        "$$"
      ],
      "metadata": {
        "id": "g1yyk3tpPfJz"
      }
    },
    {
      "cell_type": "markdown",
      "source": [
        "## Code example"
      ],
      "metadata": {
        "id": "AJB50roSQ3Pr"
      }
    },
    {
      "cell_type": "code",
      "source": [
        "\n",
        "import torch\n",
        "a=torch.rand(3,2)\n",
        "print('a is a matrix with shape(3,2)')\n",
        "\n",
        "\n",
        "# matrix add scalar\n",
        "print('a+0.1 is a matrix with shape(3,2)')\n",
        "print(a+0.1)\n",
        "\n",
        "# matrix add matrix\n",
        "b=torch.rand(3,2)\n",
        "print('b is another matrix with shape(3,2)')\n",
        "print('a+b is a matrix with shape(3,2)')\n",
        "print(a+b)\n",
        "\n",
        "# broadcast\n",
        "c=torch.rand(3,1)\n",
        "print('c is a vector with shape(3,1)')\n",
        "print('a+c is a matrix with shape(3,2)')\n",
        "print(a+c)\n"
      ],
      "metadata": {
        "colab": {
          "base_uri": "https://localhost:8080/"
        },
        "id": "HNFe-WdtC80j",
        "outputId": "00e2903d-80c3-4875-f597-43d57c94f1ce"
      },
      "execution_count": 16,
      "outputs": [
        {
          "output_type": "stream",
          "name": "stdout",
          "text": [
            "a is a matrix with shape(3,2)\n",
            "a+0.1 is a matrix with shape(3,2)\n",
            "tensor([[0.6860, 0.3382],\n",
            "        [0.4839, 0.5033],\n",
            "        [0.4357, 0.3504]])\n",
            "b is another matrix with shape(3,2)\n",
            "a+b is a matrix with shape(3,2)\n",
            "tensor([[0.8067, 0.4724],\n",
            "        [0.9208, 0.9055],\n",
            "        [0.3923, 1.1365]])\n",
            "c is a vector with shape(3,1)\n",
            "a+c is a matrix with shape(3,2)\n",
            "tensor([[1.1250, 0.7772],\n",
            "        [0.9409, 0.9603],\n",
            "        [0.8880, 0.8027]])\n"
          ]
        }
      ]
    },
    {
      "cell_type": "markdown",
      "source": [
        "# Matrix Multiplication"
      ],
      "metadata": {
        "id": "ntIm05KvRw8Y"
      }
    },
    {
      "cell_type": "markdown",
      "source": [
        "A is a (m,n) matrix and B is a (n,p) matrix.\n",
        "\n",
        "$$\n",
        "\\mathbf A=\n",
        "\\begin{pmatrix}\n",
        "a_{11}&a_{12} &...&a_{1n} \\\\\n",
        "a_{21}&a_{22}&...&a_{2n} \\\\\n",
        "... & ... &... &... \\\\\n",
        "a_{m1}&a_{m2}&...&a_{mn}\n",
        "\\end{pmatrix},\n",
        "\\mathbf B=\n",
        "\\begin{pmatrix}\n",
        "b_{11}&b_{12} &...&b_{1p} \\\\\n",
        "b_{21}&b_{22}&...&b_{2p} \\\\\n",
        "... & ... &... &... \\\\\n",
        "b_{n1}&a_{n2}&...&a_{np}\n",
        "\\end{pmatrix}\n",
        "$$\n",
        "\n",
        "$\\mathbf A × \\mathbf B = \\mathbf C=$\n",
        "\n",
        "\n",
        "\n",
        "$$\n",
        "\\begin{pmatrix}\n",
        "c_{11}&c_{12}&...&c_{1p}\\\\\n",
        "c_{21}&c_{22}&...&c_{2p}\\\\\n",
        "... & ... &... &... \\\\\n",
        "c_{m1}&c_{m2}&...&c_{mp}\n",
        "\\end{pmatrix}\n",
        "$$\n",
        "\n",
        "$$\n",
        "c_{ij}=a_{i1}×b_{1j}+a_{i2}\\times b_{2j}+...+a_{in}\\times b{nj}=\n",
        "\\sum_{k=1}^na_{ik}×b_{kj}\n",
        "$$\n",
        "\n",
        "Process:\n",
        "```\n",
        "for i,row in A: #A is (m.n) so row length is n\n",
        "  for j,column in B: # B is (m,n) so column length is n)\n",
        "    r=sum(A1*B1,A2*B2,...An*Bn)\n",
        "    C[i,j]=r\n",
        "```\n"
      ],
      "metadata": {
        "id": "tF8T-GcmVioB"
      }
    },
    {
      "cell_type": "markdown",
      "source": [
        "## Code example"
      ],
      "metadata": {
        "id": "_Up9O5NyduTG"
      }
    },
    {
      "cell_type": "code",
      "source": [
        "a=torch.rand(3,2)\n",
        "b=torch.rand(2,3)\n",
        "c=torch.matmul(a,b) #shape(3,3)\n",
        "print(c)\n",
        "# Let us verify the c_11\n",
        "c11=c[0,0]\n",
        "print(\"c11 is :\",c11)\n",
        "print(sum(a[0,i]*b[i,0] for i in range(2)))"
      ],
      "metadata": {
        "colab": {
          "base_uri": "https://localhost:8080/"
        },
        "id": "_tpcMIZEdzwu",
        "outputId": "a667d34f-c9ff-481b-a91f-77dc413f1d7e"
      },
      "execution_count": 25,
      "outputs": [
        {
          "output_type": "stream",
          "name": "stdout",
          "text": [
            "tensor([[1.2734, 0.6060, 0.3447],\n",
            "        [0.8384, 0.4447, 0.2421],\n",
            "        [0.4645, 0.2310, 0.1290]])\n",
            "c11 is : tensor(1.2734)\n",
            "tensor(1.2734)\n"
          ]
        }
      ]
    }
  ]
}