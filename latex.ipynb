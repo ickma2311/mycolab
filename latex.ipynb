{
  "nbformat": 4,
  "nbformat_minor": 0,
  "metadata": {
    "colab": {
      "provenance": [],
      "authorship_tag": "ABX9TyPATiJwbluqlYPVIPKjXt5I",
      "include_colab_link": true
    },
    "kernelspec": {
      "name": "python3",
      "display_name": "Python 3"
    },
    "language_info": {
      "name": "python"
    }
  },
  "cells": [
    {
      "cell_type": "markdown",
      "metadata": {
        "id": "view-in-github",
        "colab_type": "text"
      },
      "source": [
        "<a href=\"https://colab.research.google.com/github/ickma2311/mycolab/blob/main/latex.ipynb\" target=\"_parent\"><img src=\"https://colab.research.google.com/assets/colab-badge.svg\" alt=\"Open In Colab\"/></a>"
      ]
    },
    {
      "cell_type": "markdown",
      "source": [
        "# Set"
      ],
      "metadata": {
        "id": "RKEOVRfcf-pY"
      }
    },
    {
      "cell_type": "markdown",
      "source": [
        "## Set Notation\n",
        "+ in $ x \\in A $\n",
        "+ notin $ x \\notin A$\n",
        "+ subset $ A \\subset B $\n",
        "+ proper subset $ A \\subsetneq B $\n",
        "+ superset $ A \\supset B $\n",
        "+ empty set $ \\emptyset $\n",
        "+ universal set $ U$\n",
        "+ set builder $ \\{ x \\in \\mathbb{N} \\mid x \\text { is even} \\}$\n",
        "\n",
        "## Set Operation\n",
        "+ Union $ A \\cup B $\n",
        "+ Intersection $ A \\cap B $\n",
        "+ Set Difference $ A \\setminus B $\n",
        "+ Complement $ \\overline A or A^c $\n",
        "+ Power set  $\\mathcal{P} (\\mathbb{A})$\n",
        "+ Product $ A \\times B $\n",
        "\n",
        "## List,Tuple,Sequence\n",
        "+ Tuple $(a_1,a_2,a_3,...a_n)$\n",
        "+ List $[a_1,a_2,a_3,...a_n]$\n",
        "+ Sequence $ \\{a_n\\}_{n=1}^\\infty$\n",
        "+ Inifinite List $ a_1,a_2, \\dots $\n",
        "\n",
        "\n",
        "## Mapping, Functions\n",
        "+ Function def $ f: A \\to B $\n",
        "+ Maps to $ x \\mapsto f(x) $\n",
        "+ Image $f(A)$\n",
        "+ Preimage $f^{-1}(B)$\n",
        "\n",
        "## Logic\n",
        "+ For all elements $ \\forall x \\in A, $\n",
        "+ There exists $ \\exists x \\in A $\n",
        "+ Quantified set prop $ \\forall x \\in X, P(x) $\n",
        "\n",
        "## Index\n",
        "+ Indexed Set: $\\{x_i\\}_{i=1}^n$\n",
        "+ Union Over Index: $ \\bigcup_{i=1}^n A_i$\n",
        "+ Insection Over Index: $ \\bigcap_{i=1}^n B_i$\n",
        "\n",
        "## Custom Sets\n",
        "+ Natrual Numbers $ \\mathbb{N}$\n",
        "+ Integers $\\mathbb {Z}$\n",
        "+ Rationals $\\mathbb {Q}$\n",
        "+ Reals $\\mathbb{R}$\n",
        "+ Complex Numbers $\\mathbb{C}$\n",
        "\n",
        "\n",
        "\n"
      ],
      "metadata": {
        "id": "Vr2R9kZYhBVj"
      }
    },
    {
      "cell_type": "markdown",
      "source": [
        "# Probability\n",
        "\n",
        "## Basic Probability Notation\n",
        "+ Probability $ \\mathbb{P}(A)$\n",
        "+ Probability (alt) $ Pr(A)$\n",
        "+ Random variable $ X, Y, Z $\n",
        "+ Sample Space $\\Omega$\n",
        "+ Event $ A \\subset \\Omega$\n",
        "\n",
        "## Conditional Probability\n",
        "+ Conditional probability $ \\mathbb{P}(A \\mid B)$\n",
        "+ Definition $\\frac{\\mathbb{P}(A \\cap B)}{\\mathbb{P}(B)}$\n",
        "\n",
        "## Independence and Bayes’ Theorem\n",
        "+ Independence $ A \\perp B$\n",
        "+ Conditional indep. $ A \\perp B \\mid C$\n",
        "+ Bayes’ Theorem $ \\mathbb{P}(A \\mid B) = \\frac{\\mathbb{P}(B \\mid A)\\mathbb{P}(A)}{\\mathbb{P}(B)}$\n",
        "\n",
        "##  Expectation and Variance\n",
        "+ Expectation $ \\mathbb{E}[x]$\n",
        "+ Variance $\\mathrm {Var}(X)$\n",
        "+ Standard deviation $ \\mathrm {Std}(X)$\n",
        "+ Covariance $ \\mathrm {Cov}(X,Y) $\n",
        "\n",
        "##Distribution\n",
        "+ Bernoulli $X \\sim \\mathrm{Bern}(p)$\n",
        "+ Binomial $X \\sim \\mathrm{Bin}(n, p)$\n",
        "+ Normal (Gaussian) $X \\sim \\mathcal{N}(\\mu, \\sigma^2)$\n",
        "+ Uniform $X \\sim \\mathcal{U}(a, b)$\n",
        "+ Exponential $X \\sim \\mathrm{Exp}(\\lambda)$\n",
        "+ Poisson $X \\sim \\mathrm{Poisson}(\\lambda)$\n",
        "+ Categorical $X \\sim \\mathrm{Cat}(\\boldsymbol{p})$\n",
        "+ Multinomial $X \\sim \\mathrm{Mult}(n, \\boldsymbol{p})$"
      ],
      "metadata": {
        "id": "CvcegJfAw74M"
      }
    },
    {
      "cell_type": "markdown",
      "source": [
        "# Calculus\n",
        "## Derivatives\n",
        "+ Derivative (single var) $\\frac{df}{dx}$\n",
        "+ Partial derivative $\\frac{\\partial f}{\\partial x}$\n",
        "+ Second derivative $\\frac{d^2f}{dx^2}$\n",
        "+ Gradient $\\nabla f$\n",
        "+ Hessian (matrix of 2nd partials) $\\nabla^2 f$\n",
        "+ Total derivative (multi-var) $\\frac{d}{dt} f(x(t))$\n",
        "\n",
        "## Integrals\n",
        "+ Definite integral $\\int_a^b f(x) \\, dx$\n",
        "+ Indefinite integral $\\int f(x) \\, dx$\n",
        "+ Double integral $\\iint_D f(x, y) \\, dx\\,dy$\n",
        "+ Triple integral $\\iiint_D f(x, y, z) \\, dx\\,dy\\,dz$\n",
        "\n",
        "## Limits\n",
        "+ Limit $\\lim_{x \\to a} f(x)$\n",
        "+ Infinity $\\infty$\n",
        "+ Summation $\\sum_{i=1}^{n} a_i$\n",
        "+ Series (infinite) $\\sum_{n=0}^{\\infty} x^n$\n",
        "+ Product $\\prod_{i=1}^{n} x_i$\n"
      ],
      "metadata": {
        "id": "IX0nLADxG5gG"
      }
    },
    {
      "cell_type": "markdown",
      "source": [
        "# Linear Algebra\n",
        "##  Vectors and Matrices\n",
        "+ Vector bold $\\mathbf{x}$ or $\\vec{x}$\n",
        "+ Matrix bold $\\mathbf{A}$\n",
        "+ Matrix element $A_{ij}$\n",
        "+ Transpose $\\mathbf{A}^T$\n",
        "+ Vector transpose $\\mathbf{x}^\\top$\n",
        "+ Identity matrix $\\mathbf{I}$\n",
        "+ Zero matrix/vector $\\mathbf{0}$\n",
        "\n",
        "## Matrix\n",
        "$$\n",
        "\\begin{bmatrix}\n",
        "a & b \\\\\n",
        "c & d\n",
        "\\end{bmatrix}\n",
        "$$\n",
        "\n",
        "## Operations and properties\n",
        "\n"
      ],
      "metadata": {
        "id": "ZPt7R3DLHSgX"
      }
    },
    {
      "cell_type": "markdown",
      "metadata": {
        "id": "b420863c"
      },
      "source": [
        "# Linear Algebra\n",
        "## Vectors and Matrices\n",
        "+ Vector bold $\\mathbf{x}$ or $\\vec{x}$\n",
        "+ Matrix bold $\\mathbf{A}$\n",
        "+ Matrix element $A_{ij}$\n",
        "+ Transpose $\\mathbf{A}^T$\n",
        "+ Vector transpose $\\mathbf{x}^\\top$\n",
        "+ Identity matrix $\\mathbf{I}$\n",
        "+ Zero matrix/vector $\\mathbf{0}$\n",
        "\n",
        "## Matrix\n",
        "$$\n",
        "\\begin{bmatrix}\n",
        "a & b \\\\\n",
        "c & d\n",
        "\\end{bmatrix}\n",
        "$$\n",
        "\n",
        "## Operations and properties\n",
        "+ Dot product $\\mathbf{u} \\cdot \\mathbf{v}$\n",
        "+ Cross product $\\mathbf{u} \\times \\mathbf{v}$\n",
        "+ Norm (L2) $\\|x\\|$ or $\\left\\| x \\right\\|$\n",
        "+ Frobenius norm $\\|\\mathbf{A}\\|_F$\n",
        "+ Trace $\\mathrm{Tr}(\\mathbf{A})$\n",
        "+ Determinant $\\det(\\mathbf{A})$\n",
        "+ Rank $\\mathrm{rank}(\\mathbf{A})$"
      ]
    },
    {
      "cell_type": "markdown",
      "metadata": {
        "id": "2d0db46f"
      },
      "source": [
        "# Linear Algebra\n",
        "## Vectors and Matrices\n",
        "+ Vector bold $\\mathbf{x}$ or $\\vec{x}$\n",
        "+ Matrix bold $\\mathbf{A}$\n",
        "+ Matrix element $A_{ij}$\n",
        "+ Transpose $\\mathbf{A}^T$\n",
        "+ Vector transpose $\\mathbf{x}^\\top$\n",
        "+ Identity matrix $\\mathbf{I}$\n",
        "+ Zero matrix/vector $\\mathbf{0}$\n",
        "\n",
        "## Matrix\n",
        "$$\n",
        "\\begin{bmatrix}\n",
        "a & b \\\\\n",
        "c & d\n",
        "\\end{bmatrix}\n",
        "$$\n",
        "\n",
        "## Operations and properties\n",
        "+ Dot product $\\mathbf{u} \\cdot \\mathbf{v}$\n",
        "+ Cross product $\\mathbf{u} \\times \\mathbf{v}$\n",
        "+ Norm (L2) $\\|x\\|$ or $\\left\\| x \\right\\|$\n",
        "+ Frobenius norm $\\|\\mathbf{A}\\|_F$\n",
        "+ Trace $\\mathrm{Tr}(\\mathbf{A})$\n",
        "+ Determinant $\\det(\\mathbf{A})$\n",
        "+ Rank $\\mathrm{rank}(\\mathbf{A})$\n",
        "+ Eigenvalue eqn $\\mathbf{A}\\mathbf{v} = \\lambda \\mathbf{v}$\n",
        "+ Characteristic eqn $\\det(\\mathbf{A} - \\lambda \\mathbf{I}) = 0$\n",
        "+ Diagonalization $\\mathbf{A} = \\mathbf{P} \\mathbf{D} \\mathbf{P}^{-1}$"
      ]
    }
  ]
}