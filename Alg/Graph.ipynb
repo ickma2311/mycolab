{
  "nbformat": 4,
  "nbformat_minor": 0,
  "metadata": {
    "colab": {
      "provenance": [],
      "authorship_tag": "ABX9TyPDwCQx/m9AlirXYkN0cwRm",
      "include_colab_link": true
    },
    "kernelspec": {
      "name": "python3",
      "display_name": "Python 3"
    },
    "language_info": {
      "name": "python"
    }
  },
  "cells": [
    {
      "cell_type": "markdown",
      "metadata": {
        "id": "view-in-github",
        "colab_type": "text"
      },
      "source": [
        "<a href=\"https://colab.research.google.com/github/ickma2311/mycolab/blob/main/Alg/Graph.ipynb\" target=\"_parent\"><img src=\"https://colab.research.google.com/assets/colab-badge.svg\" alt=\"Open In Colab\"/></a>"
      ]
    },
    {
      "cell_type": "markdown",
      "source": [
        "# [ Satisfiability of Equality Equations](https://leetcode.com/problems/satisfiability-of-equality-equations/description/)"
      ],
      "metadata": {
        "id": "MYrlCYC7DlvU"
      }
    },
    {
      "cell_type": "code",
      "source": [
        "from collections import defaultdict\n",
        "from typing import List\n",
        "\n",
        "class Solution:\n",
        "    def equationsPossible(self, equations: List[str]) -> bool:\n",
        "        # use set to store the relations\n",
        "        clusters=defaultdict(set)\n",
        "        equations=sorted(equations,key=lambda x:0 if x[1]=='=' else 1)\n",
        "        for e in equations:\n",
        "            x=e[0]\n",
        "            y=e[-1]\n",
        "            relation=e[1]\n",
        "            if relation=='=':\n",
        "                clusters[x].update({y})\n",
        "                clusters[y].update({x})\n",
        "                union=clusters[x]| clusters[y]\n",
        "                for item in union:\n",
        "                    clusters[item].update(union)\n",
        "\n",
        "            else:\n",
        "                if x==y:\n",
        "                    return False\n",
        "                if len(clusters[x]&clusters[y]):\n",
        "                    return False\n",
        "\n",
        "\n",
        "        return True"
      ],
      "metadata": {
        "id": "Uo-DSWh2KtWo"
      },
      "execution_count": 1,
      "outputs": []
    }
  ]
}