{
  "nbformat": 4,
  "nbformat_minor": 0,
  "metadata": {
    "colab": {
      "provenance": [],
      "collapsed_sections": [
        "IKkCXP5KiOUL"
      ],
      "authorship_tag": "ABX9TyOHsU7e6PFv9nBnXEFoCD9g",
      "include_colab_link": true
    },
    "kernelspec": {
      "name": "python3",
      "display_name": "Python 3"
    },
    "language_info": {
      "name": "python"
    }
  },
  "cells": [
    {
      "cell_type": "markdown",
      "metadata": {
        "id": "view-in-github",
        "colab_type": "text"
      },
      "source": [
        "<a href=\"https://colab.research.google.com/github/ickma2311/mycolab/blob/main/Alg/backtrace.ipynb\" target=\"_parent\"><img src=\"https://colab.research.google.com/assets/colab-badge.svg\" alt=\"Open In Colab\"/></a>"
      ]
    },
    {
      "cell_type": "markdown",
      "source": [
        "# Easy: Combinations\n",
        "[Leetcode](https://leetcode.com/problems/combinations/description/)\n",
        "\n",
        "```\n",
        "def backtrack(path, choices):\n",
        "    if 满足结束条件:\n",
        "        保存结果\n",
        "        return\n",
        "    for choice in choices:\n",
        "        if 不合法(choice):   # 剪枝\n",
        "            continue\n",
        "        做选择(path, choice)\n",
        "        backtrack(path + [choice], choices)\n",
        "        撤销选择(path, choice)\n",
        "```"
      ],
      "metadata": {
        "id": "IKkCXP5KiOUL"
      }
    },
    {
      "cell_type": "code",
      "source": [
        "# Solution 1: back trace\n",
        "from typing import List\n",
        "class Solution:\n",
        "    def __init__(self):\n",
        "        self.combinations = []\n",
        "        self.n = None\n",
        "        self.k = None\n",
        "\n",
        "    def back_track(self, path: List, choices: List) -> None:\n",
        "        # each step, start startt ndex\n",
        "        if len(path) == self.k:\n",
        "            self.combinations.append(path.copy())\n",
        "            return\n",
        "        for index, c in enumerate(choices):\n",
        "            path = path + [c]\n",
        "            self.back_track(path, choices[index + 1 :])\n",
        "            path.pop()\n",
        "\n",
        "    def combine(\n",
        "        self,\n",
        "        n: int,\n",
        "        k: int,\n",
        "    ) -> List[List[int]]:\n",
        "        self.n = n\n",
        "        self.k = k\n",
        "        self.back_track([], list(range(1, n + 1)))\n",
        "        return self.combinations\n"
      ],
      "metadata": {
        "id": "mOVCR85Eid_t"
      },
      "execution_count": 2,
      "outputs": []
    },
    {
      "cell_type": "markdown",
      "source": [
        "# Medium [Restore IP Addresses](https://leetcode.com/problems/restore-ip-addresses/description/)"
      ],
      "metadata": {
        "id": "9TCTQjz3D-KJ"
      }
    },
    {
      "cell_type": "code",
      "source": [
        "class Solution:\n",
        "    def __init__(self):\n",
        "        self.solutions=[]\n",
        "        self.str=None\n",
        "\n",
        "    def back_track(self,path,choices):\n",
        "        if len(path)==4 and len(''.join(path))==len(self.str):\n",
        "            self.solutions.append('.'.join(path))\n",
        "        for index,c in enumerate(choices):\n",
        "            if index>2:\n",
        "                break\n",
        "            cur_s=choices[:index+1]\n",
        "            if int(cur_s)>255:\n",
        "                continue\n",
        "            if cur_s.startswith('0') and not cur_s=='0':\n",
        "                continue\n",
        "            path=path+[choices[:index+1]]\n",
        "            self.back_track(path,choices[index+1:])\n",
        "            path.pop()\n",
        "\n",
        "\n",
        "    def restoreIpAddresses(self, s: str) -> List[str]:\n",
        "        self.str=s\n",
        "        self.back_track([],s)\n",
        "        return self.solutions\n",
        "\n"
      ],
      "metadata": {
        "id": "Ko_az7F4EJc6"
      },
      "execution_count": null,
      "outputs": []
    },
    {
      "cell_type": "markdown",
      "source": [
        "# Medium [Palindrome Partitioning](https://leetcode.com/problems/palindrome-partitioning/description/)"
      ],
      "metadata": {
        "id": "SlwlVIZKI7Hj"
      }
    },
    {
      "cell_type": "code",
      "source": [
        "class Solution:\n",
        "\n",
        "    def __init__(self):\n",
        "        self.result = []\n",
        "        self.s = None\n",
        "\n",
        "    def back_trace(self, path, choices):\n",
        "        if len(\"\".join(path)) == len(self.s):\n",
        "            self.result.append(path.copy())\n",
        "        for i in range(len(choices)):\n",
        "            cur_s = choices[:i+1]\n",
        "            if cur_s[::-1] == cur_s:\n",
        "                path.append(cur_s)\n",
        "                self.back_trace(path, choices[i + 1 :])\n",
        "                path.pop()\n",
        "\n",
        "    def partition(self, s: str) -> List[List[str]]:\n",
        "        self.s = s\n",
        "        self.back_trace([], s)\n",
        "        return self.result\n"
      ],
      "metadata": {
        "id": "yrpPcqYsI-EC"
      },
      "execution_count": 3,
      "outputs": []
    }
  ]
}