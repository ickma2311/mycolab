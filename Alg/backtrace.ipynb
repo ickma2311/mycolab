{
  "nbformat": 4,
  "nbformat_minor": 0,
  "metadata": {
    "colab": {
      "provenance": [],
      "authorship_tag": "ABX9TyOGF1S5cEv01iXDu23X2PFU",
      "include_colab_link": true
    },
    "kernelspec": {
      "name": "python3",
      "display_name": "Python 3"
    },
    "language_info": {
      "name": "python"
    }
  },
  "cells": [
    {
      "cell_type": "markdown",
      "metadata": {
        "id": "view-in-github",
        "colab_type": "text"
      },
      "source": [
        "<a href=\"https://colab.research.google.com/github/ickma2311/mycolab/blob/main/Alg/backtrace.ipynb\" target=\"_parent\"><img src=\"https://colab.research.google.com/assets/colab-badge.svg\" alt=\"Open In Colab\"/></a>"
      ]
    },
    {
      "cell_type": "markdown",
      "source": [
        "# Easy: Combinations\n",
        "[Leetcode](https://leetcode.com/problems/combinations/description/)\n",
        "\n",
        "```\n",
        "def backtrack(path, choices):\n",
        "    if 满足结束条件:\n",
        "        保存结果\n",
        "        return\n",
        "    for choice in choices:\n",
        "        if 不合法(choice):   # 剪枝\n",
        "            continue\n",
        "        做选择(path, choice)\n",
        "        backtrack(path + [choice], choices)\n",
        "        撤销选择(path, choice)\n",
        "```"
      ],
      "metadata": {
        "id": "IKkCXP5KiOUL"
      }
    },
    {
      "cell_type": "code",
      "source": [
        "# Solution 1: back trace\n",
        "from typing import List\n",
        "class Solution:\n",
        "    def __init__(self):\n",
        "        self.combinations = []\n",
        "        self.n = None\n",
        "        self.k = None\n",
        "\n",
        "    def back_track(self, path: List, choices: List) -> None:\n",
        "        # each step, start startt ndex\n",
        "        if len(path) == self.k:\n",
        "            self.combinations.append(path.copy())\n",
        "            return\n",
        "        for index, c in enumerate(choices):\n",
        "            path = path + [c]\n",
        "            self.back_track(path, choices[index + 1 :])\n",
        "            path.pop()\n",
        "\n",
        "    def combine(\n",
        "        self,\n",
        "        n: int,\n",
        "        k: int,\n",
        "    ) -> List[List[int]]:\n",
        "        self.n = n\n",
        "        self.k = k\n",
        "        self.back_track([], list(range(1, n + 1)))\n",
        "        return self.combinations\n"
      ],
      "metadata": {
        "id": "mOVCR85Eid_t"
      },
      "execution_count": 2,
      "outputs": []
    }
  ]
}