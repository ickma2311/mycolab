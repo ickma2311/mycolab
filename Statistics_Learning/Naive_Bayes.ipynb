{
  "nbformat": 4,
  "nbformat_minor": 0,
  "metadata": {
    "colab": {
      "provenance": [],
      "authorship_tag": "ABX9TyPEs1dhrODdCvoYgJCAwEWs",
      "include_colab_link": true
    },
    "kernelspec": {
      "name": "python3",
      "display_name": "Python 3"
    },
    "language_info": {
      "name": "python"
    }
  },
  "cells": [
    {
      "cell_type": "markdown",
      "metadata": {
        "id": "view-in-github",
        "colab_type": "text"
      },
      "source": [
        "<a href=\"https://colab.research.google.com/github/ickma2311/mycolab/blob/main/Statistics_Learning/Naive_Bayes.ipynb\" target=\"_parent\"><img src=\"https://colab.research.google.com/assets/colab-badge.svg\" alt=\"Open In Colab\"/></a>"
      ]
    },
    {
      "cell_type": "code",
      "execution_count": null,
      "metadata": {
        "id": "hJToR3WbTDfW"
      },
      "outputs": [],
      "source": [
        "import numpy as np"
      ]
    },
    {
      "cell_type": "markdown",
      "source": [
        "Prior Probability: $ \\mathbb {P}(Y=ck), k=1,2,3...,K$.    \n",
        "\n",
        "Conditional Probability(Likehood Probability):\n",
        "$$ \\mathbb {P} (X=x \\mid Y=c_k) = \\mathbb {P}(X^{(1)}=x^{(1)},...,X^{(n})=x^{(n)} \\mid Y=c_k), k=1,2,...K\n",
        "$$\n",
        "\n",
        "Based on conditional indepenet assumution\n",
        "\n",
        "$$ \\mathbb {P} (X=x \\mid Y=c_k)= \\prod_{j=1}^n \\mathbb {P}(X^{(j)}=x^{(j)} \\mid Y=c_k)\n",
        "$$\n",
        "\n",
        "Posterior Probability\n",
        "$$\n",
        "\\mathbb{P}(Y=c_k \\mid X=x)= \\frac { \\mathbb {P}(X=x \\mid Y=c_k) \\mathbb {P} (Y=c_k)}\n",
        " {\\sum_k \\mathbb {P}(X=x \\mid Y=c_k) \\mathbb {P}(Y=c_k)}\n",
        "$$\n",
        "\n",
        "$$\n",
        "= $\\frac { \\mathbb {P}(Y=c_k) \\cdot \\prod_j \\mathbb {P}(X|Y=c_k)} {\\mathbb {P(X)} }\n",
        "$$\n",
        "\n",
        "Naive Bayes\n",
        "$$\n",
        "P(A|B)=\\frac {P(B|A) \\cdot P(A)} {P(B)}\n",
        "$$\n",
        "\n",
        "Now we got the function, we can remove the denominator because for each $Y_{c_k}$, the denominator is the same\n",
        "$$\n",
        "y= arg \\max_{c_k} P(Y=c_k)\\cdot \\prod_j P(X_j|Y_{c_k})\n",
        "$$"
      ],
      "metadata": {
        "id": "t8ApogBNTWje"
      }
    },
    {
      "cell_type": "code",
      "source": [
        "from collections import defaultdict\n",
        "import numpy as np\n",
        "class NaiveBayes:\n",
        "    def __init__(self):\n",
        "        self.class_prob=defaultdict(float)\n",
        "        self.feature_prob=defaultdict(lambda:defaultdict(float))\n",
        "        self.classes=set()\n",
        "\n",
        "        self.vocab=set()\n",
        "        self.class_count=defaultdict(int)\n",
        "        self.feature_count=defaultdict(lambda:defaultdict(int))\n",
        "\n",
        "    def fix(self,X,y):\n",
        "        self.classes=set(y)\n",
        "\n",
        "        for feature,label in zip(X,y):\n",
        "          self.class_prob[label]+=1\n",
        "          self.class_count[label]+=1\n",
        "          for value in feature:\n",
        "            self.feature_count[label][value]+=1\n",
        "            self.vocab.add(value)\n",
        "\n",
        "        for label in self.classes:\n",
        "          self.class_prob[label]/=len(y)\n",
        "          for value in self.feature_count[label]:\n",
        "            # Laplace smoothing\n",
        "            self.feature_prob[label][value]=(self.feature_count[label][value]+1)/(self.class_count[label]+len(self.vocab))\n",
        "\n",
        "\n",
        "    def predict(self,X):\n",
        "        prob=defaultdict(float)\n",
        "        for label in self.classes:\n",
        "          prob[label]=np.log(self.class_prob[label])\n",
        "          for value in X:\n",
        "            prob[label]+=np.log(self.feature_prob[label][value])\n",
        "        return max(prob,key=prob.get)\n",
        "\n",
        "\n",
        "\n"
      ],
      "metadata": {
        "id": "QRrsunDS1MZ7"
      },
      "execution_count": 6,
      "outputs": []
    },
    {
      "cell_type": "code",
      "source": [
        "from sklearn.datasets import load_breast_cancer\n",
        "data = load_breast_cancer()\n",
        "X_raw, y = data.data, data.target"
      ],
      "metadata": {
        "id": "vXmXyref9edd"
      },
      "execution_count": 1,
      "outputs": []
    },
    {
      "cell_type": "code",
      "source": [
        "from sklearn.datasets import load_breast_cancer\n",
        "from sklearn.model_selection import train_test_split\n",
        "from sklearn.preprocessing import KBinsDiscretizer\n",
        "from sklearn.metrics import accuracy_score\n",
        "\n",
        "# Load dataset\n",
        "data = load_breast_cancer()\n",
        "X_raw, y = data.data, data.target\n",
        "\n",
        "# Discretize features into 5 bins (convert to integers)\n",
        "discretizer = KBinsDiscretizer(n_bins=5, encode='ordinal', strategy='uniform')\n",
        "X_binned = discretizer.fit_transform(X_raw).astype(int)\n",
        "\n",
        "# Split into train/test\n",
        "X_train, X_test, y_train, y_test = train_test_split(X_binned, y, test_size=0.2, random_state=42)\n",
        "\n",
        "# Convert to list-of-lists for your NaiveBayes class\n",
        "X_train_list = [list(row) for row in X_train]\n",
        "X_test_list = [list(row) for row in X_test]\n",
        "\n",
        "# Train your classifier\n",
        "nb = NaiveBayes()\n",
        "nb.fix(X_train_list, y_train)\n",
        "\n",
        "# Predict\n",
        "y_pred = [nb.predict(x) for x in X_test_list]\n",
        "\n",
        "# Accuracy\n",
        "print(\"Accuracy:\", accuracy_score(y_test, y_pred))"
      ],
      "metadata": {
        "colab": {
          "base_uri": "https://localhost:8080/"
        },
        "id": "7_BgySbq9r0r",
        "outputId": "2e17e4ba-762f-4413-a85e-417254c5ae14"
      },
      "execution_count": 7,
      "outputs": [
        {
          "output_type": "stream",
          "name": "stdout",
          "text": [
            "Accuracy: 0.9210526315789473\n"
          ]
        }
      ]
    },
    {
      "cell_type": "markdown",
      "source": [
        "# Normal Distribution PDF(Probability Density Function)\n",
        "$$\n",
        "f(x) = \\frac{1}{\\sqrt{2\\pi\\sigma^2}} \\exp\\left( -\\frac{(x - \\mu)^2}{2\\sigma^2} \\right)\n",
        "$$"
      ],
      "metadata": {
        "id": "cK3_8vwOxkC5"
      }
    },
    {
      "cell_type": "code",
      "source": [
        "from sklearn.datasets import load_breast_cancer\n",
        "X, y = load_breast_cancer(return_X_y=True)"
      ],
      "metadata": {
        "id": "nQyf-wdh1d_j"
      },
      "execution_count": null,
      "outputs": []
    },
    {
      "cell_type": "code",
      "source": [
        "X"
      ],
      "metadata": {
        "id": "TZwaydGd1fuD",
        "outputId": "c27f7b8b-250a-47c7-a1e8-7db4ca2b062a",
        "colab": {
          "base_uri": "https://localhost:8080/"
        }
      },
      "execution_count": null,
      "outputs": [
        {
          "output_type": "execute_result",
          "data": {
            "text/plain": [
              "array([[1.799e+01, 1.038e+01, 1.228e+02, ..., 2.654e-01, 4.601e-01,\n",
              "        1.189e-01],\n",
              "       [2.057e+01, 1.777e+01, 1.329e+02, ..., 1.860e-01, 2.750e-01,\n",
              "        8.902e-02],\n",
              "       [1.969e+01, 2.125e+01, 1.300e+02, ..., 2.430e-01, 3.613e-01,\n",
              "        8.758e-02],\n",
              "       ...,\n",
              "       [1.660e+01, 2.808e+01, 1.083e+02, ..., 1.418e-01, 2.218e-01,\n",
              "        7.820e-02],\n",
              "       [2.060e+01, 2.933e+01, 1.401e+02, ..., 2.650e-01, 4.087e-01,\n",
              "        1.240e-01],\n",
              "       [7.760e+00, 2.454e+01, 4.792e+01, ..., 0.000e+00, 2.871e-01,\n",
              "        7.039e-02]])"
            ]
          },
          "metadata": {},
          "execution_count": 2
        }
      ]
    },
    {
      "cell_type": "code",
      "source": [],
      "metadata": {
        "id": "5K1Y6OZr1gHx"
      },
      "execution_count": null,
      "outputs": []
    }
  ]
}