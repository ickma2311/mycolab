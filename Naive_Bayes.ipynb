{
  "nbformat": 4,
  "nbformat_minor": 0,
  "metadata": {
    "colab": {
      "provenance": [],
      "authorship_tag": "ABX9TyMIgxXVu5P+KBiWxn6i8SdH",
      "include_colab_link": true
    },
    "kernelspec": {
      "name": "python3",
      "display_name": "Python 3"
    },
    "language_info": {
      "name": "python"
    }
  },
  "cells": [
    {
      "cell_type": "markdown",
      "metadata": {
        "id": "view-in-github",
        "colab_type": "text"
      },
      "source": [
        "<a href=\"https://colab.research.google.com/github/ickma2311/mycolab/blob/main/Naive_Bayes.ipynb\" target=\"_parent\"><img src=\"https://colab.research.google.com/assets/colab-badge.svg\" alt=\"Open In Colab\"/></a>"
      ]
    },
    {
      "cell_type": "code",
      "execution_count": null,
      "metadata": {
        "id": "hJToR3WbTDfW"
      },
      "outputs": [],
      "source": [
        "import numpy as np"
      ]
    },
    {
      "cell_type": "markdown",
      "source": [
        "Prior Probability: $ \\mathbb {P}(Y=ck), k=1,2,3...,K$.    \n",
        "\n",
        "Conditional Probability(Likehood Probability):\n",
        "$$ \\mathbb {P} (X=x \\mid Y=c_k) = \\mathbb {P}(X^{(1)}=x^{(1)},...,X^{(n})=x^{(n)} \\mid Y=c_k), k=1,2,...K\n",
        "$$\n",
        "\n",
        "Based on conditional indepenet assumution\n",
        "\n",
        "$$ \\mathbb {P} (X=x \\mid Y=c_k)= \\prod_{j=1}^n \\mathbb {P}(X^{(j)}=x^{(j)} \\mid Y=c_k)\n",
        "$$\n",
        "\n",
        "Posterior Probability\n",
        "$$\n",
        "\\mathbb{P}(Y=c_k \\mid X=x)= \\frac { \\mathbb {P}(X=x \\mid Y=c_k) \\mathbb {P} (Y=c_k)}\n",
        " {\\sum_k \\mathbb {P}(X=x \\mid Y=c_k) \\mathbb {P}(Y=c_k)}\n",
        "$$\n",
        "\n",
        "$$\n",
        "= $\\frac { \\mathbb {P}(Y=c_k) \\cdot \\prod_j \\mathbb {P}(X|Y=c_k)} {\\mathbb {P(X)} }\n",
        "$$\n",
        "\n",
        "Naive Bayes\n",
        "$$\n",
        "P(A|B)=\\frac {P(B|A) \\cdot P(A)} {P(B)}\n",
        "$$\n",
        "\n",
        "Now we got the function, we can remove the denominator because for each $Y_{c_k}$, the denominator is the same\n",
        "$$\n",
        "y= arg \\max_{c_k} P(Y=c_k)\\cdot \\prod_j P(X_j|Y_{c_k})\n",
        "$$"
      ],
      "metadata": {
        "id": "t8ApogBNTWje"
      }
    },
    {
      "cell_type": "markdown",
      "source": [
        "# Normal Distribution PDF(Probability Density Function)\n",
        "$$\n",
        "f(x) = \\frac{1}{\\sqrt{2\\pi\\sigma^2}} \\exp\\left( -\\frac{(x - \\mu)^2}{2\\sigma^2} \\right)\n",
        "$$"
      ],
      "metadata": {
        "id": "cK3_8vwOxkC5"
      }
    },
    {
      "cell_type": "code",
      "source": [
        "class NaiveBayes:\n",
        "  def train(self):\n",
        "    pass\n",
        "\n",
        "  def predict(self):\n",
        "    pass"
      ],
      "metadata": {
        "id": "QRrsunDS1MZ7"
      },
      "execution_count": null,
      "outputs": []
    },
    {
      "cell_type": "code",
      "source": [
        "from sklearn.datasets import load_breast_cancer\n",
        "X, y = load_breast_cancer(return_X_y=True)"
      ],
      "metadata": {
        "id": "nQyf-wdh1d_j"
      },
      "execution_count": null,
      "outputs": []
    },
    {
      "cell_type": "code",
      "source": [
        "X"
      ],
      "metadata": {
        "id": "TZwaydGd1fuD",
        "outputId": "c27f7b8b-250a-47c7-a1e8-7db4ca2b062a",
        "colab": {
          "base_uri": "https://localhost:8080/"
        }
      },
      "execution_count": null,
      "outputs": [
        {
          "output_type": "execute_result",
          "data": {
            "text/plain": [
              "array([[1.799e+01, 1.038e+01, 1.228e+02, ..., 2.654e-01, 4.601e-01,\n",
              "        1.189e-01],\n",
              "       [2.057e+01, 1.777e+01, 1.329e+02, ..., 1.860e-01, 2.750e-01,\n",
              "        8.902e-02],\n",
              "       [1.969e+01, 2.125e+01, 1.300e+02, ..., 2.430e-01, 3.613e-01,\n",
              "        8.758e-02],\n",
              "       ...,\n",
              "       [1.660e+01, 2.808e+01, 1.083e+02, ..., 1.418e-01, 2.218e-01,\n",
              "        7.820e-02],\n",
              "       [2.060e+01, 2.933e+01, 1.401e+02, ..., 2.650e-01, 4.087e-01,\n",
              "        1.240e-01],\n",
              "       [7.760e+00, 2.454e+01, 4.792e+01, ..., 0.000e+00, 2.871e-01,\n",
              "        7.039e-02]])"
            ]
          },
          "metadata": {},
          "execution_count": 2
        }
      ]
    },
    {
      "cell_type": "code",
      "source": [],
      "metadata": {
        "id": "5K1Y6OZr1gHx"
      },
      "execution_count": null,
      "outputs": []
    }
  ]
}