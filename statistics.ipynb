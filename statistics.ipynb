{
  "nbformat": 4,
  "nbformat_minor": 0,
  "metadata": {
    "colab": {
      "provenance": [],
      "authorship_tag": "ABX9TyOrvvUOXzkBZks6DS0Gyw0M",
      "include_colab_link": true
    },
    "kernelspec": {
      "name": "python3",
      "display_name": "Python 3"
    },
    "language_info": {
      "name": "python"
    }
  },
  "cells": [
    {
      "cell_type": "markdown",
      "metadata": {
        "id": "view-in-github",
        "colab_type": "text"
      },
      "source": [
        "<a href=\"https://colab.research.google.com/github/ickma2311/mycolab/blob/main/statistics.ipynb\" target=\"_parent\"><img src=\"https://colab.research.google.com/assets/colab-badge.svg\" alt=\"Open In Colab\"/></a>"
      ]
    },
    {
      "cell_type": "markdown",
      "source": [
        "# PTP\n",
        "$$\n",
        "\\text{ptp(a)}=\\max(a)-min(a)\n",
        "$$"
      ],
      "metadata": {
        "id": "irMcIGbyztsA"
      }
    },
    {
      "cell_type": "code",
      "source": [
        "import numpy as np\n",
        "\n",
        "def ptp(arr:np.array,axis:int):\n",
        "  result=[]\n",
        "  if axis==0:\n",
        "    for i in range(arr.shape[1]):\n",
        "      sub_arr=arr[:,i]\n",
        "      result.append(np.max(sub_arr)-np.min(sub_arr))\n",
        "  if axis==1:\n",
        "    for i in range(arr.shape[0]):\n",
        "      result.append(np.max(arr[i])-np.min(arr[i]))\n",
        "  return np.array(result)\n",
        "\n",
        "\n"
      ],
      "metadata": {
        "id": "bwR9LZDv9rUb"
      },
      "execution_count": 22,
      "outputs": []
    },
    {
      "cell_type": "code",
      "source": [
        "import numpy as np\n",
        "a=np.random.randint(0,100,(10,10))\n",
        "a=np.array(a,dtype=np.int32,order='C')\n",
        "ptp(a,axis=1)"
      ],
      "metadata": {
        "colab": {
          "base_uri": "https://localhost:8080/"
        },
        "id": "vv-VXyzA-5vV",
        "outputId": "09de6e4e-d74f-48d4-917e-e8e99d9e9830"
      },
      "execution_count": 23,
      "outputs": [
        {
          "output_type": "execute_result",
          "data": {
            "text/plain": [
              "array([86, 81, 88, 84, 78, 95, 63, 87, 55, 73], dtype=int32)"
            ]
          },
          "metadata": {},
          "execution_count": 23
        }
      ]
    },
    {
      "cell_type": "code",
      "source": [
        "np.ptp(a,axis=1)"
      ],
      "metadata": {
        "colab": {
          "base_uri": "https://localhost:8080/"
        },
        "id": "qUV0uov-QP2A",
        "outputId": "2fe254e4-527e-4da0-eb4f-0014fc89e2c9"
      },
      "execution_count": 24,
      "outputs": [
        {
          "output_type": "execute_result",
          "data": {
            "text/plain": [
              "array([86, 81, 88, 84, 78, 95, 63, 87, 55, 73], dtype=int32)"
            ]
          },
          "metadata": {},
          "execution_count": 24
        }
      ]
    },
    {
      "cell_type": "code",
      "source": [
        "%%timeit\n",
        "ptp(a,axis=0)"
      ],
      "metadata": {
        "colab": {
          "base_uri": "https://localhost:8080/"
        },
        "id": "jn0eJX-NQSbA",
        "outputId": "f4306176-cc76-4e8e-a477-a5c94525da75"
      },
      "execution_count": 28,
      "outputs": [
        {
          "output_type": "stream",
          "name": "stdout",
          "text": [
            "106 µs ± 23.3 µs per loop (mean ± std. dev. of 7 runs, 10000 loops each)\n"
          ]
        }
      ]
    },
    {
      "cell_type": "code",
      "source": [
        "%%timeit\n",
        "np.ptp(a,axis=0)"
      ],
      "metadata": {
        "colab": {
          "base_uri": "https://localhost:8080/"
        },
        "id": "phsU7zP5QUkW",
        "outputId": "60b812f0-6ad1-4b24-8125-249be6e87f4d"
      },
      "execution_count": 27,
      "outputs": [
        {
          "output_type": "stream",
          "name": "stdout",
          "text": [
            "9.69 µs ± 2.53 µs per loop (mean ± std. dev. of 7 runs, 100000 loops each)\n"
          ]
        }
      ]
    },
    {
      "cell_type": "code",
      "source": [
        "np.all(ptp(a,axis=0)==np.ptp(a,axis=0))"
      ],
      "metadata": {
        "colab": {
          "base_uri": "https://localhost:8080/"
        },
        "id": "JuNCkjDhQfA4",
        "outputId": "794bd869-3121-4e25-b860-a8b057b4f9d6"
      },
      "execution_count": 32,
      "outputs": [
        {
          "output_type": "execute_result",
          "data": {
            "text/plain": [
              "np.True_"
            ]
          },
          "metadata": {},
          "execution_count": 32
        }
      ]
    }
  ]
}