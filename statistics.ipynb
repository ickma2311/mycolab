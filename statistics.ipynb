{
  "nbformat": 4,
  "nbformat_minor": 0,
  "metadata": {
    "colab": {
      "provenance": [],
      "authorship_tag": "ABX9TyNpUkkrsw6TkmJFpbGUYphp",
      "include_colab_link": true
    },
    "kernelspec": {
      "name": "python3",
      "display_name": "Python 3"
    },
    "language_info": {
      "name": "python"
    }
  },
  "cells": [
    {
      "cell_type": "markdown",
      "metadata": {
        "id": "view-in-github",
        "colab_type": "text"
      },
      "source": [
        "<a href=\"https://colab.research.google.com/github/ickma2311/mycolab/blob/main/statistics.ipynb\" target=\"_parent\"><img src=\"https://colab.research.google.com/assets/colab-badge.svg\" alt=\"Open In Colab\"/></a>"
      ]
    },
    {
      "cell_type": "markdown",
      "source": [
        "# PTP\n",
        "$$\n",
        "\\text{ptp(a)}=\\max(a)-min(a)\n",
        "$$"
      ],
      "metadata": {
        "id": "irMcIGbyztsA"
      }
    },
    {
      "cell_type": "code",
      "source": [
        "import numpy as np\n",
        "\n",
        "def ptp(arr:np.array,axis:int):\n",
        "  result=[]\n",
        "  if axis==0:\n",
        "    for i in range(arr.shape[1]):\n",
        "      sub_arr=arr[:,i]\n",
        "      result.append(np.max(sub_arr)-np.min(sub_arr))\n",
        "  if axis==1:\n",
        "    for i in range(arr.shape[0]):\n",
        "      result.append(np.max(arr[i])-np.min(arr[i]))\n",
        "  return np.array(result)\n",
        "\n",
        "\n"
      ],
      "metadata": {
        "id": "bwR9LZDv9rUb"
      },
      "execution_count": 3,
      "outputs": []
    },
    {
      "cell_type": "code",
      "source": [
        "import numpy as np\n",
        "a=np.random.randint(0,100,(10,10))\n",
        "a=np.array(a,dtype=np.int32,order='C')\n",
        "ptp(a,axis=1)"
      ],
      "metadata": {
        "colab": {
          "base_uri": "https://localhost:8080/"
        },
        "id": "vv-VXyzA-5vV",
        "outputId": "78fdff94-c708-4e2e-8471-3919339403ae"
      },
      "execution_count": 4,
      "outputs": [
        {
          "output_type": "execute_result",
          "data": {
            "text/plain": [
              "array([86, 74, 96, 69, 71, 71, 74, 96, 79, 74], dtype=int32)"
            ]
          },
          "metadata": {},
          "execution_count": 4
        }
      ]
    },
    {
      "cell_type": "code",
      "source": [
        "np.ptp(a,axis=1)"
      ],
      "metadata": {
        "colab": {
          "base_uri": "https://localhost:8080/"
        },
        "id": "qUV0uov-QP2A",
        "outputId": "55dd5d11-7bcb-4b69-ef3c-731c9141d86b"
      },
      "execution_count": 5,
      "outputs": [
        {
          "output_type": "execute_result",
          "data": {
            "text/plain": [
              "array([86, 74, 96, 69, 71, 71, 74, 96, 79, 74], dtype=int32)"
            ]
          },
          "metadata": {},
          "execution_count": 5
        }
      ]
    },
    {
      "cell_type": "code",
      "source": [
        "%%timeit\n",
        "ptp(a,axis=0)"
      ],
      "metadata": {
        "colab": {
          "base_uri": "https://localhost:8080/"
        },
        "id": "jn0eJX-NQSbA",
        "outputId": "36608d2c-f3bc-4465-ae59-fdb98ac94b12"
      },
      "execution_count": 6,
      "outputs": [
        {
          "output_type": "stream",
          "name": "stdout",
          "text": [
            "83.4 µs ± 8.03 µs per loop (mean ± std. dev. of 7 runs, 10000 loops each)\n"
          ]
        }
      ]
    },
    {
      "cell_type": "code",
      "source": [
        "%%timeit\n",
        "np.ptp(a,axis=0)"
      ],
      "metadata": {
        "colab": {
          "base_uri": "https://localhost:8080/"
        },
        "id": "phsU7zP5QUkW",
        "outputId": "b989ca69-3a81-4cf9-d859-bca2c10c89fb"
      },
      "execution_count": 7,
      "outputs": [
        {
          "output_type": "stream",
          "name": "stdout",
          "text": [
            "7.29 µs ± 2.01 µs per loop (mean ± std. dev. of 7 runs, 100000 loops each)\n"
          ]
        }
      ]
    },
    {
      "cell_type": "code",
      "source": [
        "np.all(ptp(a,axis=0)==np.ptp(a,axis=0))"
      ],
      "metadata": {
        "colab": {
          "base_uri": "https://localhost:8080/"
        },
        "id": "JuNCkjDhQfA4",
        "outputId": "e4cbf54c-a588-4533-ac29-93eba0e70ed5"
      },
      "execution_count": 8,
      "outputs": [
        {
          "output_type": "execute_result",
          "data": {
            "text/plain": [
              "np.True_"
            ]
          },
          "metadata": {},
          "execution_count": 8
        }
      ]
    },
    {
      "cell_type": "markdown",
      "source": [
        "# percentile\n",
        "$$\n",
        "x={x_1,x_2,...x_N} \\\\\n",
        "r==\\frac {q}{100}⋅(N-1)  \\\\\n",
        "k=[r],d=r-k \\\\\n",
        "\\text {percentile}=x[k]+d\\times (x_{k+1}-x_k)\n",
        "$$\n"
      ],
      "metadata": {
        "id": "-2B6WmaM75Pt"
      }
    },
    {
      "cell_type": "code",
      "source": [
        "def percentile(a:np.array,q:float):\n",
        "  a=sorted(a)\n",
        "  r=(q/100)*(len(a)-1)\n",
        "  if r==len(a)-1:\n",
        "    return a[-1]\n",
        "  return a[int(r)]+(r-len(a))*(a[int(r)+1]-a[int(r)])"
      ],
      "metadata": {
        "id": "9iEucbVQX-BB"
      },
      "execution_count": 15,
      "outputs": []
    },
    {
      "cell_type": "code",
      "source": [
        "a=np.random.randint(0,100,1000000)\n"
      ],
      "metadata": {
        "id": "F0OSyddVZZKb"
      },
      "execution_count": 19,
      "outputs": []
    },
    {
      "cell_type": "code",
      "source": [
        "%%timeit\n",
        "percentile(a,12)"
      ],
      "metadata": {
        "colab": {
          "base_uri": "https://localhost:8080/"
        },
        "id": "ElETJ_fcaKdk",
        "outputId": "46215a20-df9f-47ae-906a-e386535b625a"
      },
      "execution_count": 28,
      "outputs": [
        {
          "output_type": "stream",
          "name": "stdout",
          "text": [
            "455 ms ± 22.3 ms per loop (mean ± std. dev. of 7 runs, 1 loop each)\n"
          ]
        }
      ]
    },
    {
      "cell_type": "code",
      "source": [
        "\n",
        "%%timeit\n",
        "np.percentile(a,12)"
      ],
      "metadata": {
        "colab": {
          "base_uri": "https://localhost:8080/"
        },
        "id": "Xsewjw2ZaUBk",
        "outputId": "29dc65ed-4398-4ac8-a739-dbb66c0cf6a6"
      },
      "execution_count": 29,
      "outputs": [
        {
          "output_type": "stream",
          "name": "stdout",
          "text": [
            "18.1 ms ± 1.7 ms per loop (mean ± std. dev. of 7 runs, 100 loops each)\n"
          ]
        }
      ]
    },
    {
      "cell_type": "code",
      "source": [
        "for i in range(0,101,1):\n",
        "  assert(percentile(a,i)==np.percentile(a,i))"
      ],
      "metadata": {
        "id": "SfbGYiYgZpgY"
      },
      "execution_count": 26,
      "outputs": []
    }
  ]
}